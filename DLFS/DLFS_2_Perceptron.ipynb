{
 "cells": [
  {
   "cell_type": "markdown",
   "metadata": {},
   "source": [
    "## 밑바닥부터 시작하는 딥러닝(Deep Learning from Scratch) 챕터별 예제코드 정리 \n",
    "예제코드가 기본이나 정확히 일치하지는 않습니다. 개인적으로 모든 코드들을 문서화하되 너무 기본적인 내용은 제외하거나 나름대로 더 필요하다고 생각되는 내용은 추가하였습니다. 같은 내용을 다른 방식으로 구현하는 경우도 있습니다.\n",
    "## Chapter 2. 퍼셉트론\n",
    "![Alt text](http://i.imgur.com/rCerA0J.png)"
   ]
  },
  {
   "cell_type": "code",
   "execution_count": 3,
   "metadata": {
    "collapsed": false
   },
   "outputs": [
    {
     "data": {
      "text/plain": [
       "array([[0, 1],\n",
       "       [1, 0],\n",
       "       [0, 0],\n",
       "       [1, 1]])"
      ]
     },
     "execution_count": 3,
     "metadata": {},
     "output_type": "execute_result"
    }
   ],
   "source": [
    "# Generate logic_table for binary\n",
    "import numpy as np\n",
    "logic_table = np.array([[0,1],[1,0],[0,0],[1,1]])\n",
    "logic_table"
   ]
  },
  {
   "cell_type": "markdown",
   "metadata": {},
   "source": [
    "### AND gate 정의 (bias 개념을 넣지않은)"
   ]
  },
  {
   "cell_type": "code",
   "execution_count": 9,
   "metadata": {
    "collapsed": false
   },
   "outputs": [
    {
     "name": "stdout",
     "output_type": "stream",
     "text": [
      "[0 1] 0\n",
      "[1 0] 0\n",
      "[0 0] 0\n",
      "[1 1] 1\n"
     ]
    }
   ],
   "source": [
    "def AND(x1, x2):\n",
    "    w1, w2, theta = 0.5, 0.5, 0.7\n",
    "    tmp = w1 * x1 + w2 * x2\n",
    "    if tmp <= theta:\n",
    "        return 0\n",
    "    else:\n",
    "        return 1\n",
    "\n",
    "# Check the AND gate\n",
    "for i in logic_table:\n",
    "    print(i, AND(i[0],i[1]))"
   ]
  },
  {
   "cell_type": "markdown",
   "metadata": {},
   "source": [
    "### AND gate (bias ver)"
   ]
  },
  {
   "cell_type": "code",
   "execution_count": 5,
   "metadata": {
    "collapsed": false
   },
   "outputs": [
    {
     "name": "stdout",
     "output_type": "stream",
     "text": [
      "[0 1] 0\n",
      "[1 0] 0\n",
      "[0 0] 0\n",
      "[1 1] 1\n"
     ]
    }
   ],
   "source": [
    "def AND_bias(x):\n",
    "    w, bias = np.array([0.5, 0.5]), -0.7\n",
    "    if np.sum(w * x) + bias <= 0:\n",
    "        return 0\n",
    "    else:\n",
    "        return 1\n",
    "\n",
    "# Check the And gate (bias ver)\n",
    "for i in logic_table:\n",
    "    print(i, AND_bias(i))"
   ]
  },
  {
   "cell_type": "markdown",
   "metadata": {},
   "source": [
    "### NAND gate (bias ver)"
   ]
  },
  {
   "cell_type": "code",
   "execution_count": 10,
   "metadata": {
    "collapsed": false
   },
   "outputs": [
    {
     "name": "stdout",
     "output_type": "stream",
     "text": [
      "[0 1] 1\n",
      "[1 0] 1\n",
      "[0 0] 1\n",
      "[1 1] 0\n"
     ]
    }
   ],
   "source": [
    "def NAND(x):\n",
    "    w, bias = np.array([-0.5, -0.5]), 0.7\n",
    "    tmp = np.sum(w * x) + bias\n",
    "    if tmp <= 0:\n",
    "        return 0\n",
    "    else:\n",
    "        return 1\n",
    "\n",
    "# Check the NAND gate (bias ver)\n",
    "for i in logic_table:\n",
    "    print(i, NAND(i))"
   ]
  },
  {
   "cell_type": "markdown",
   "metadata": {},
   "source": [
    "### OR gate (bias ver)"
   ]
  },
  {
   "cell_type": "code",
   "execution_count": 11,
   "metadata": {
    "collapsed": false
   },
   "outputs": [
    {
     "name": "stdout",
     "output_type": "stream",
     "text": [
      "[0 1] 1\n",
      "[1 0] 1\n",
      "[0 0] 0\n",
      "[1 1] 1\n"
     ]
    }
   ],
   "source": [
    "def OR(x):\n",
    "    w, bias = np.array([0.5, 0.5]), -0.2\n",
    "    tmp = np.sum(w * x) + bias\n",
    "    if tmp <= 0:\n",
    "        return 0\n",
    "    else:\n",
    "        return 1\n",
    "\n",
    "# Check the OR gate (bias ver)\n",
    "for i in logic_table:\n",
    "    print(i, OR(i))"
   ]
  },
  {
   "cell_type": "markdown",
   "metadata": {},
   "source": [
    "### XOR gate [XOR gate is composed by NAND(hidden layer), OR(hidden layer), AND(output layer)]\n",
    "![Alt text](http://i.imgur.com/CmVUkzu.png)"
   ]
  },
  {
   "cell_type": "code",
   "execution_count": 12,
   "metadata": {
    "collapsed": false
   },
   "outputs": [
    {
     "name": "stdout",
     "output_type": "stream",
     "text": [
      "[0 1] 1\n",
      "[1 0] 1\n",
      "[0 0] 0\n",
      "[1 1] 0\n"
     ]
    }
   ],
   "source": [
    "def XOR(x):\n",
    "    h1 = NAND(x)\n",
    "    h2 = OR(x)\n",
    "    output = AND_bias(np.array([h1, h2]))\n",
    "    return output\n",
    "\n",
    "# Check the XOR gate\n",
    "for i in logic_table:\n",
    "    print(i, XOR(i))"
   ]
  }
 ],
 "metadata": {
  "kernelspec": {
   "display_name": "Python [conda root]",
   "language": "python",
   "name": "conda-root-py"
  },
  "language_info": {
   "codemirror_mode": {
    "name": "ipython",
    "version": 3
   },
   "file_extension": ".py",
   "mimetype": "text/x-python",
   "name": "python",
   "nbconvert_exporter": "python",
   "pygments_lexer": "ipython3",
   "version": "3.5.2"
  }
 },
 "nbformat": 4,
 "nbformat_minor": 1
}
