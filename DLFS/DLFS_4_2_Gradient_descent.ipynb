{
 "cells": [
  {
   "cell_type": "markdown",
   "metadata": {},
   "source": [
    "## 밑바닥부터 시작하는 딥러닝(Deep Learning from Scratch) 챕터별 예제코드 정리 \n",
    "예제코드가 기본이나 정확히 일치하지는 않습니다. 개인적으로 모든 코드들을 문서화하되 너무 기본적인 내용은 제외하거나 나름대로 더 필요하다고 생각되는 내용은 추가하였습니다. 같은 내용을 다른 방식으로 구현하는 경우도 있습니다.\n",
    "## Chapter 4. 신경망 학습\n",
    "### 4.4 Gradient descent (경사하강법)\n",
    "추후에 계산그래프를 이용한 해석적 미분(analytic gradient)을 활용할 것이나 본 예제에서는 수치미분(numerical gradient)을 활용한다. gradient descent의 hyper-parameter로 learning rate(학습률) 또는 stepsize-parameter라는 것이 있으며 적절한 값을 정해주어야 gradient descent가 잘 동작한다."
   ]
  },
  {
   "cell_type": "code",
   "execution_count": 2,
   "metadata": {
    "collapsed": true
   },
   "outputs": [],
   "source": [
    "import numpy as np\n",
    "import matplotlib.pylab as plt\n",
    "# numerical gradient 함수로 어떤 특정값에서의 다변수함수의 gradient를 계산\n",
    "def numerical_gradient(f, x):\n",
    "    h = 1e-4\n",
    "    grad = np.zeros_like(x)\n",
    "\n",
    "    for idx in range(x.size):\n",
    "        tmp_val = x[idx]\n",
    "        x[idx] = tmp_val + h\n",
    "        fxh1 = f(x)\n",
    "\n",
    "        x[idx] = tmp_val - h\n",
    "        fxh2 = f(x)\n",
    "\n",
    "        grad[idx] = (fxh1 - fxh2) / (2 * h)\n",
    "        x[idx] = tmp_val\n",
    "    return grad"
   ]
  },
  {
   "cell_type": "code",
   "execution_count": 3,
   "metadata": {
    "collapsed": true
   },
   "outputs": [],
   "source": [
    "## gradient descent (경사하강법)\n",
    "# init_x : 초기 x 값, lr : learning rate (학습률), step_num : iteration 횟수\n",
    "def gradient_descent(f, init_x, lr = 0.01, step_num = 100):\n",
    "    x = init_x.copy()\n",
    "    x_history = []\n",
    "    for i in range(step_num):\n",
    "        x_history.append(x.copy())\n",
    "        grad = numerical_gradient(f, x)\n",
    "        x -= lr * grad\n",
    "    return x, np.array(x_history)"
   ]
  },
  {
   "cell_type": "markdown",
   "metadata": {},
   "source": [
    "### example 1\n",
    "gradient descent의 예제로서는 아래와 같은 함수를 활용한다. 최소값은 (0,0)일 때이다.  \n",
    "\n",
    "$$f(x_0,x_1)={x_0}^2+{x_1}^2$$"
   ]
  },
  {
   "cell_type": "code",
   "execution_count": 5,
   "metadata": {
    "collapsed": false
   },
   "outputs": [
    {
     "data": {
      "image/png": "[encoded data removed]",
      "text/plain": [
       "<matplotlib.figure.Figure at 0x1fa104b4358>"
      ]
     },
     "metadata": {},
     "output_type": "display_data"
    }
   ],
   "source": [
    "# example1\n",
    "def function_2(x):\n",
    "        return np.sum(x**2)\n",
    "\n",
    "init_x = np.array([-3.0, 4.0])\n",
    "x, x_history = gradient_descent(function_2, init_x = init_x, lr = 0.1, step_num = 100)\n",
    "\n",
    "# example1 visualize\n",
    "plt.plot( [-5, 5], [0,0], '--b')\n",
    "plt.plot( [0,0], [-5, 5], '--b')\n",
    "plt.plot(x_history[:,0], x_history[:,1], 'o')\n",
    "plt.xlim(-3.5, 3.5)\n",
    "plt.ylim(-4.5, 4.5)\n",
    "plt.xlabel(\"X0\")\n",
    "plt.ylabel(\"X1\")\n",
    "plt.show()"
   ]
  },
  {
   "cell_type": "code",
   "execution_count": 9,
   "metadata": {
    "collapsed": false
   },
   "outputs": [
    {
     "name": "stdout",
     "output_type": "stream",
     "text": [
      "[ -2.67498081e+14  -1.25119902e+12]\n",
      "[-2.99999994  3.99999992]\n"
     ]
    }
   ],
   "source": [
    "# gradient descent or gradient ascent는 hyper-parameter인 학습률을 적절히 설정하는 것이 매우 중요\n",
    "# 학습률이 너무 클 경우 (학습률이 너무커서 발산한 것을 볼 수 있다.)\n",
    "init_x = np.array([-3.0, 4.0])\n",
    "x, x_history = gradient_descent(function_2, init_x = init_x, lr = 100, step_num = 100)\n",
    "print(x)\n",
    "\n",
    "# 학습률이 너무 작을 경우 (gradient descent로 최적점까지 찾아가지못하였다.)\n",
    "init_x = np.array([-3.0, 4.0])\n",
    "x, x_history = gradient_descent(function_2, init_x = init_x, lr = 1e-10, step_num = 100)\n",
    "print(x)"
   ]
  },
  {
   "cell_type": "markdown",
   "metadata": {},
   "source": [
    "### example 2\n",
    "hidden layer가 없고 2차원의 input을 받아 3차원의 output을 내놓는 단순한 network를 예제로 활용한다. 3차원의 output은 각 범주에 속할 확률값이다. 해당 예제를 구현하기위해 먼저 score값을 확률로 변환해주는 softmax layer와 classification 문제이므로 cross entropy loss를 구현한다."
   ]
  },
  {
   "cell_type": "code",
   "execution_count": 11,
   "metadata": {
    "collapsed": true
   },
   "outputs": [],
   "source": [
    "# prerequisite\n",
    "def softmax(a):\n",
    "    c = np.max(a)\n",
    "    exp_a = np.exp(a - c) # overflow의 보정\n",
    "    sum_exp_a = np.sum(exp_a)\n",
    "    y = exp_a / sum_exp_a\n",
    "    return y\n",
    "\n",
    "def cross_entropy_error(y, t):\n",
    "    delta = 1e-7\n",
    "    return -np.sum(t * np.log(y + delta)) # delta는 y가 0값이 될 경우에 값이 계산안되는 경우를 보정한 것"
   ]
  },
  {
   "cell_type": "markdown",
   "metadata": {},
   "source": [
    "위의 경우 가중치가 3 x 2의 행렬이 될 것이므로 numerical gradient도 행렬의 꼴을 반영할 수 있도록 변형한다."
   ]
  },
  {
   "cell_type": "code",
   "execution_count": 12,
   "metadata": {
    "collapsed": true
   },
   "outputs": [],
   "source": [
    "def numerical_gradient(f, x):\n",
    "    h = 1e-4\n",
    "    grad = np.zeros_like(x)\n",
    "    for idx1 in range(x.shape[0]):\n",
    "        for idx2 in range(x.shape[1]):\n",
    "            tmp_val = x[idx1, idx2]\n",
    "            x[idx1, idx2] = tmp_val + h\n",
    "            fxh1 = f(x)\n",
    "\n",
    "            x[idx1, idx2] = tmp_val - h\n",
    "            fxh2 = f(x)\n",
    "\n",
    "            grad[idx1, idx2] = (fxh1 - fxh2) / (2 * h)\n",
    "            x[idx1, idx2] = tmp_val\n",
    "    return grad"
   ]
  },
  {
   "cell_type": "markdown",
   "metadata": {},
   "source": [
    "위의 예제를 생성하는 class를 정의한다."
   ]
  },
  {
   "cell_type": "code",
   "execution_count": 13,
   "metadata": {
    "collapsed": true
   },
   "outputs": [],
   "source": [
    "class simpleNet:\n",
    "    def __init__(self):\n",
    "        self.W = np.random.randn(3,2)\n",
    "\n",
    "    def predict(self, x):\n",
    "        if x.ndim == 1:\n",
    "            x = x.reshape(2,1)\n",
    "            return softmax(np.dot(self.W, x))\n",
    "        else:\n",
    "            return softmax(np.dot(self.W, x))\n",
    "\n",
    "    def loss(self, x, t):\n",
    "        z = self.predict(x)\n",
    "        y = softmax(z)\n",
    "        if t.ndim == 1:\n",
    "            t = t.reshape(3,1)\n",
    "            loss = cross_entropy_error(y, t)\n",
    "            return loss\n",
    "        else:\n",
    "            loss = cross_entropy_error(y, t)\n",
    "            return loss"
   ]
  },
  {
   "cell_type": "markdown",
   "metadata": {},
   "source": [
    "아래의 코드에서 np.array의 index 기준 1의 확률값이 높게 나왔으므로 true label의 설정에 따라 loss가 알맞게 계산됨을 확인할 수 있다."
   ]
  },
  {
   "cell_type": "code",
   "execution_count": 18,
   "metadata": {
    "collapsed": false
   },
   "outputs": [
    {
     "name": "stdout",
     "output_type": "stream",
     "text": [
      "[[ 0.1855394 ]\n",
      " [ 0.5950234 ]\n",
      " [ 0.21943721]] 1.23037527595\n",
      "[[ 0.1855394 ]\n",
      " [ 0.5950234 ]\n",
      " [ 0.21943721]] 0.854789193123\n"
     ]
    }
   ],
   "source": [
    "# forward가 올바른 결과인지 확인하기\n",
    "net = simpleNet()\n",
    "x = np.array([.6, .9])\n",
    "print(net.predict(x), net.loss(x, t = np.array([0,0,1])))\n",
    "print(net.predict(x), net.loss(x, t = np.array([0,1,0]))) # true label로 예측할 확률이 가장 컸을 경우 loss가 작음"
   ]
  },
  {
   "cell_type": "markdown",
   "metadata": {},
   "source": [
    "위의 경우 예제에서 true label을 (0,1,0)으로 했을 때 위의 경우와 같은 x에 대해서 gradient를 아래의 코드로 계산할 수 있다."
   ]
  },
  {
   "cell_type": "code",
   "execution_count": 19,
   "metadata": {
    "collapsed": false
   },
   "outputs": [
    {
     "data": {
      "text/plain": [
       "array([[ 0.05653467,  0.084802  ],\n",
       "       [-0.12468032, -0.18702048],\n",
       "       [ 0.06814565,  0.10221848]])"
      ]
     },
     "execution_count": 19,
     "metadata": {},
     "output_type": "execute_result"
    }
   ],
   "source": [
    "x = np.array([.6, .9])\n",
    "t = np.array([0, 1, 0])\n",
    "def f(W):\n",
    "    return net.loss(x, t)\n",
    "numerical_gradient(f, net.W)"
   ]
  }
 ],
 "metadata": {
  "kernelspec": {
   "display_name": "Python 3",
   "language": "python",
   "name": "python3"
  },
  "language_info": {
   "codemirror_mode": {
    "name": "ipython",
    "version": 3
   },
   "file_extension": ".py",
   "mimetype": "text/x-python",
   "name": "python",
   "nbconvert_exporter": "python",
   "pygments_lexer": "ipython3",
   "version": "3.6.0"
  }
 },
 "nbformat": 4,
 "nbformat_minor": 2
}
