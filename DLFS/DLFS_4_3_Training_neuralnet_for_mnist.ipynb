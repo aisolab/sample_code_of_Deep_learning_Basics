{
 "cells": [
  {
   "cell_type": "markdown",
   "metadata": {},
   "source": [
    "## 밑바닥부터 시작하는 딥러닝(Deep Learning from Scratch) 챕터별 예제코드 정리 \n",
    "예제코드가 기본이나 정확히 일치하지는 않습니다. 개인적으로 모든 코드들을 문서화하되 너무 기본적인 내용은 제외하거나 나름대로 더 필요하다고 생각되는 내용은 추가하였습니다. 같은 내용을 다른 방식으로 구현하는 경우도 있습니다.\n",
    "## Chapter 4. 신경망 학습\n",
    "### 4.5 1-hidden layer neural net 구현 (mnist dataset)"
   ]
  },
  {
   "cell_type": "markdown",
   "metadata": {},
   "source": [
    "### activation function과 loss, numerical gradient 정의"
   ]
  },
  {
   "cell_type": "code",
   "execution_count": 1,
   "metadata": {
    "collapsed": true
   },
   "outputs": [],
   "source": [
    "import numpy as np\n",
    "#prerequisite\n",
    "def sigmoid(x):\n",
    "    return 1 / (1 + np.exp(-x))\n",
    "\n",
    "def sigmoid_grad(x):\n",
    "    return (1.0 - sigmoid(x)) * sigmoid(x)\n",
    "\n",
    "def softmax(x):\n",
    "    if x.ndim == 2:\n",
    "        x = x.T\n",
    "        x = x - np.max(x, axis=0)\n",
    "        y = np.exp(x) / np.sum(np.exp(x), axis=0)\n",
    "        return y.T\n",
    "    x = x - np.max(x) # 오버플로 대책\n",
    "    return np.exp(x) / np.sum(np.exp(x))\n",
    "\n",
    "def cross_entropy_error(y, t):\n",
    "    if y.ndim == 1:\n",
    "        t = t.reshape(1, t.size)\n",
    "        y = y.reshape(1, y.size)\n",
    "    # 훈련 데이터가 원-핫 벡터라면 정답 레이블의 인덱스로 반환\n",
    "    if t.size == y.size:\n",
    "        t = t.argmax(axis=1)\n",
    "    batch_size = y.shape[0]\n",
    "    return -np.sum(np.log(y[np.arange(batch_size), t])) / batch_size\n",
    "\n",
    "def softmax_loss(X, t):\n",
    "    y = softmax(X)\n",
    "    return cross_entropy_error(y, t)\n",
    "\n",
    "\n",
    "def numerical_gradient(f, x):\n",
    "    h = 1e-4  # 0.0001\n",
    "    grad = np.zeros_like(x)\n",
    "\n",
    "    it = np.nditer(x, flags=['multi_index'], op_flags=['readwrite']) # Efficient multi-dimensional iterator object\n",
    "                                                                       #  to iterate over arrays\n",
    "    while not it.finished:\n",
    "        idx = it.multi_index\n",
    "        tmp_val = x[idx]\n",
    "        x[idx] = float(tmp_val) + h\n",
    "        fxh1 = f(x)  # f(x+h)\n",
    "\n",
    "        x[idx] = tmp_val - h\n",
    "        fxh2 = f(x)  # f(x-h)\n",
    "        grad[idx] = (fxh1 - fxh2) / (2 * h)\n",
    "\n",
    "        x[idx] = tmp_val  # 값 복원\n",
    "        it.iternext()\n",
    "    return grad"
   ]
  },
  {
   "cell_type": "markdown",
   "metadata": {},
   "source": [
    "### 하나의 hidden layer를 가진 neuralnet 구현\n",
    "mnist data에 대해서 구현하므로 10가지의 숫자를 classification하는 문제이며 네트워크의 구조는 (784, 50, 10)으로 구성"
   ]
  },
  {
   "cell_type": "code",
   "execution_count": 2,
   "metadata": {
    "collapsed": true
   },
   "outputs": [],
   "source": [
    "# TwoLayerNet\n",
    "class TwoLayerNet:\n",
    "    def __init__(self, input_size, hidden_size, output_size, weight_init_std = 0.01):\n",
    "        self.params = {}\n",
    "        self.params['W1'] = weight_init_std * np.random.randn(input_size, hidden_size)\n",
    "        self.params['b1'] = np.zeros(hidden_size)\n",
    "        self.params['W2'] = weight_init_std * np.random.randn(hidden_size, output_size)\n",
    "        self.params['b2'] = np.zeros(output_size)\n",
    "\n",
    "    def predict(self, x):\n",
    "        W1, W2 = self.params['W1'], self.params['W2']\n",
    "        b1, b2 = self.params['b1'], self.params['b2']\n",
    "\n",
    "        pre_a1 = np.dot(x, W1) + b1\n",
    "        a1 = sigmoid(pre_a1)\n",
    "        pre_a2 = np.dot(a1, W2) + b2\n",
    "        a2 = softmax(pre_a2)\n",
    "\n",
    "        return a2\n",
    "\n",
    "    # x : 입력데이터, t : 정답레이블\n",
    "    def loss(self, x, t):\n",
    "        a2 = self.predict(x)\n",
    "        return cross_entropy_error(a2, t)\n",
    "\n",
    "    def accuracy(self, x, t):\n",
    "        a2 = self.predict(x)\n",
    "        y = np.argmax(a2, axis = 1)\n",
    "        t = np.argmax(t, axis = 1)\n",
    "        accuracy = np.mean(y == t)\n",
    "        return accuracy\n",
    "\n",
    "    def numerical_gradient(self, x, t):\n",
    "        loss_W = lambda W: self.loss(x, t)\n",
    "        grads = {}\n",
    "        grads['W1'] = numerical_gradient(loss_W, self.params['W1'])\n",
    "        grads['b1'] = numerical_gradient(loss_W, self.params['b1'])\n",
    "        grads['W2'] = numerical_gradient(loss_W, self.params['W2'])\n",
    "        grads['b2'] = numerical_gradient(loss_W, self.params['b2'])\n",
    "\n",
    "        return grads\n",
    "\n",
    "    def gradient(self, x, t):\n",
    "        W1, W2 = self.params['W1'], self.params['W2']\n",
    "        b1, b2 = self.params['b1'], self.params['b2']\n",
    "        grads = {}\n",
    "\n",
    "        batch_num = x.shape[0]\n",
    "\n",
    "        # forward\n",
    "        pre_a1 = np.dot(x, W1) + b1\n",
    "        a1 = sigmoid(pre_a1)\n",
    "        pre_a2 = np.dot(a1, W2) + b2\n",
    "        a2 = softmax(pre_a2)\n",
    "\n",
    "        # backward\n",
    "        da2 = (a2 - t) / batch_num\n",
    "        grads['W2'] = np.dot(a1.T, da2)\n",
    "        grads['b2'] = np.sum(da2, axis = 0)\n",
    "\n",
    "        dpre_a1 = np.dot(da2, W2.T)\n",
    "        da1 = sigmoid_grad(pre_a1) * dpre_a1\n",
    "        grads['W1'] = np.dot(x.T, da1)\n",
    "        grads['b1'] = np.sum(da1, axis = 0)\n",
    "        return grads"
   ]
  },
  {
   "cell_type": "code",
   "execution_count": 3,
   "metadata": {
    "collapsed": false
   },
   "outputs": [],
   "source": [
    "# example1\n",
    "net = TwoLayerNet(input_size = 784, hidden_size = 100, output_size = 10)\n",
    "net.params['W1'].shape\n",
    "net.params['b1'].shape\n",
    "net.params['W2'].shape\n",
    "net.params['b2'].shape\n",
    "\n",
    "x = np.random.randn(100, 784)\n",
    "y = net.predict(x) # 확률값을 반환"
   ]
  },
  {
   "cell_type": "markdown",
   "metadata": {},
   "source": [
    "### Training\n",
    "analytic gradient를 이용한 backprop에 대해서 앞의 notebook에서 자세한 설명은 안했지만 numerical gradient를 이용한 gradient descent로 학습하면 시간이 너무오래 걸리므로 (데이터 한개의 loss를 계산할 때, 데이터의 차원수만큼 partial gradient를 계산하는 과정이 시간이 많이걸림) 고속으로 할 수 있는 analytic gradient를 사용하여 backprop로 학습, hyper-parameter는 아래와 같음\n",
    "\n",
    "    batch_size =100\n",
    "    learning_rate = 0.1\n",
    "    iter = 10000"
   ]
  },
  {
   "cell_type": "code",
   "execution_count": 4,
   "metadata": {
    "collapsed": true
   },
   "outputs": [],
   "source": [
    "# mnist dataset load\n",
    "import sys, os\n",
    "import pickle\n",
    "import time\n",
    "import matplotlib.pylab as plt\n",
    "%matplotlib inline\n",
    "os.chdir('C:\\\\Users\\\\KBS\\\\PycharmProjects\\\\Deep_learning_scratch')\n",
    "from dataset.mnist import load_mnist\n",
    "(x_train, t_train), (x_test, t_test) = load_mnist(normalize = True, one_hot_label = True)"
   ]
  },
  {
   "cell_type": "code",
   "execution_count": 5,
   "metadata": {
    "collapsed": true
   },
   "outputs": [],
   "source": [
    "# hyper-parameter setting\n",
    "iters_num = 10**4\n",
    "train_size = x_train.shape[0]\n",
    "batch_size = 100\n",
    "learning_rate = 0.1\n",
    "iter_per_epoch = max(train_size / batch_size, 1)"
   ]
  },
  {
   "cell_type": "code",
   "execution_count": 6,
   "metadata": {
    "collapsed": true
   },
   "outputs": [],
   "source": [
    "# save loss\n",
    "train_loss_list = []\n",
    "train_acc_list = []\n",
    "val_loss_list = []\n",
    "val_acc_list = []\n",
    "epoch = -1"
   ]
  },
  {
   "cell_type": "markdown",
   "metadata": {},
   "source": [
    "아래의 코드 블록을 실행하면 학습이 진행되며, 실제로 학습에 걸린 시간을 재어본 결과 대략 10분정도 소요되므로 아래의 코드로 학습된 neuralnet의 weight와 bias를 load"
   ]
  },
  {
   "cell_type": "code",
   "execution_count": 7,
   "metadata": {
    "collapsed": true
   },
   "outputs": [],
   "source": [
    "## network = TwoLayerNet(input_size = 784, hidden_size = 50, output_size = 10)\n",
    "# tic_ann2 = time.clock()\n",
    "# for i in range(iters_num):\n",
    "#    # sample mini-batch\n",
    "#    batch_mask = np.random.choice(train_size, batch_size)\n",
    "#    x_batch = x_train[batch_mask]\n",
    "#    t_batch = t_train[batch_mask]\n",
    "\n",
    "#    # calculate numerical gradient\n",
    "#    grad = network.gradient(x_batch, t_batch)\n",
    "#\n",
    "#    for key in ('W1', 'b1', 'W2', 'b2'):\n",
    "#        network.params[key] -= learning_rate * grad[key]\n",
    "#\n",
    "#    train_loss = network.loss(x_batch, t_batch)\n",
    "#    val_loss = network.loss(x_test, t_test)\n",
    "#    train_loss_list.append(train_loss)\n",
    "#    val_loss_list.append(val_loss)\n",
    "#\n",
    "#    if i % 20 == 0:\n",
    "#        print('epoch = ', epoch, 'iter = ', i, 'train_loss = ', train_loss, 'val_loss = ', val_loss)\n",
    "#\n",
    "#    if i % iter_per_epoch == 0:\n",
    "#        epoch += 1\n",
    "#        train_acc = network.accuracy(x_train, t_train)\n",
    "#        train_acc_list.append(train_acc)\n",
    "#        val_acc = network.accuracy(x_test, t_test)\n",
    "#        val_acc_list.append(val_acc)"
   ]
  },
  {
   "cell_type": "code",
   "execution_count": 8,
   "metadata": {
    "collapsed": false
   },
   "outputs": [],
   "source": [
    "# 학습된 weight와 bias\n",
    "f = open('C:/Users/KBS/PycharmProjects/Deep_learning_scratch/DLFS_4_3_2.pkl', 'rb')\n",
    "network = pickle.load(f)\n",
    "f.close()"
   ]
  },
  {
   "cell_type": "code",
   "execution_count": 9,
   "metadata": {
    "collapsed": true
   },
   "outputs": [],
   "source": [
    "# network의 loss를 load\n",
    "f = open('C:/Users/KBS/PycharmProjects/Deep_learning_scratch/DLFS_4_3_2_loss_acc.pkl', 'rb')\n",
    "train_loss_list, val_loss_list, train_acc_list, val_acc_list = pickle.load(f)\n",
    "f.close()"
   ]
  },
  {
   "cell_type": "markdown",
   "metadata": {},
   "source": [
    "### Visualization for loss & accuracy\n",
    "loss와 accuracy를 visualize 해본 결과 아직 network를 더 학습을 진행시켜야한다는 판단을 할 수 있다. (val loss와 증가하기 시작하는 시점이 val loss의 최소값) 자세한 것은 아래의 wiki link를 참고  \n",
    "https://en.wikipedia.org/wiki/Overfitting"
   ]
  },
  {
   "cell_type": "code",
   "execution_count": 10,
   "metadata": {
    "collapsed": false
   },
   "outputs": [
    {
     "data": {
      "image/png": "[encoded data removed]",
      "text/plain": [
       "<matplotlib.figure.Figure at 0x2520a73bd30>"
      ]
     },
     "metadata": {},
     "output_type": "display_data"
    }
   ],
   "source": [
    "# visualization for loss\n",
    "# 그래프 그리기\n",
    "# loss\n",
    "x = np.arange(len(train_loss_list))\n",
    "plt.plot(x,train_loss_list, label = 'train loss')\n",
    "plt.plot(x,val_loss_list, label = 'val loss',linestyle = '--')\n",
    "plt.xlabel('iter')\n",
    "plt.ylabel('loss')\n",
    "plt.legend(loc = 'upper right')\n",
    "plt.show()"
   ]
  },
  {
   "cell_type": "code",
   "execution_count": 11,
   "metadata": {
    "collapsed": false
   },
   "outputs": [
    {
     "data": {
      "image/png": "[encoded data removed]",
      "text/plain": [
       "<matplotlib.figure.Figure at 0x2520a08d828>"
      ]
     },
     "metadata": {},
     "output_type": "display_data"
    }
   ],
   "source": [
    "# accuracy\n",
    "markers = {'train': 'o', 'val': 's'}\n",
    "x = np.arange(len(train_acc_list))\n",
    "plt.plot(x, train_acc_list, label='train acc')\n",
    "plt.plot(x, val_acc_list, label='val acc', linestyle='--')\n",
    "plt.xlabel(\"epochs\")\n",
    "plt.ylabel(\"accuracy\")\n",
    "plt.ylim(0, 1.0)\n",
    "plt.legend(loc='lower right')\n",
    "plt.show()"
   ]
  }
 ],
 "metadata": {
  "kernelspec": {
   "display_name": "Python 3",
   "language": "python",
   "name": "python3"
  },
  "language_info": {
   "codemirror_mode": {
    "name": "ipython",
    "version": 3
   },
   "file_extension": ".py",
   "mimetype": "text/x-python",
   "name": "python",
   "nbconvert_exporter": "python",
   "pygments_lexer": "ipython3",
   "version": "3.6.0"
  }
 },
 "nbformat": 4,
 "nbformat_minor": 2
}
