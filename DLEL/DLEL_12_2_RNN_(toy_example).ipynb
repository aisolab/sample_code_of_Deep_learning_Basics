{
 "cells": [
  {
   "cell_type": "markdown",
   "metadata": {},
   "source": [
    "### 모두를 위한 머신러닝/딥러닝 강의\n",
    "김성훈 교수님의 모두를 위한 머신러닝/딥러닝 강의 중 lab 강의 코드입니다.\n",
    "## Lab12_2 RNN (toy example)\n",
    "hihello라는 sequence에서 'hihell' sequence를 입력으로 받으면, 'ihello' sequence가 나오도록 RNN을 이용해서 training 합니다."
   ]
  },
  {
   "cell_type": "code",
   "execution_count": 1,
   "metadata": {
    "collapsed": true
   },
   "outputs": [],
   "source": [
    "import tensorflow as tf\n",
    "import numpy as np\n",
    "tf.set_random_seed(777) # for reproducibility"
   ]
  },
  {
   "cell_type": "markdown",
   "metadata": {},
   "source": [
    "### pre-processing "
   ]
  },
  {
   "cell_type": "code",
   "execution_count": 2,
   "metadata": {
    "collapsed": false
   },
   "outputs": [
    {
     "data": {
      "text/plain": [
       "[[[1, 0, 0, 0, 0],\n",
       "  [0, 1, 0, 0, 0],\n",
       "  [1, 0, 0, 0, 0],\n",
       "  [0, 0, 1, 0, 0],\n",
       "  [0, 0, 0, 1, 0],\n",
       "  [0, 0, 0, 1, 0]]]"
      ]
     },
     "execution_count": 2,
     "metadata": {},
     "output_type": "execute_result"
    }
   ],
   "source": [
    "# Teach hello: hihell -> ihello\n",
    "idx2char = ['h', 'i', 'e', 'l', 'o']\n",
    "x_data = [[0, 1, 0, 2, 3, 3]]   # hihell\n",
    "y_data = [[1, 0, 2, 3, 3, 4]] #ihello\n",
    "# h 0, i 1, e 2 ,l 3, o 4\n",
    "\n",
    "x_one_hot = []\n",
    "#y_one_hot = []\n",
    "\n",
    "for i in x_data[0]:\n",
    "    tmp = list(np.repeat(0,len(idx2char)))\n",
    "    tmp[i] = 1\n",
    "    x_one_hot.append(tmp)\n",
    "x_one_hot = [x_one_hot]\n",
    "x_one_hot\n",
    "#for i in y_data[0]:\n",
    "#    tmp = list(np.repeat(0,len(idx2char)))\n",
    "#    tmp[i] = 1\n",
    "#    y_one_hot.append(tmp)\n",
    "#y_one_hot = [y_one_hot]    \n",
    "#print(x_one_hot)\n",
    "#print(y_one_hot)"
   ]
  },
  {
   "cell_type": "markdown",
   "metadata": {},
   "source": [
    "### Generate many-to-many RNN"
   ]
  },
  {
   "cell_type": "code",
   "execution_count": 3,
   "metadata": {
    "collapsed": false
   },
   "outputs": [],
   "source": [
    "# hyper-parameter setting\n",
    "num_classes = len(idx2char)\n",
    "input_dim = len(idx2char) # one-hot size\n",
    "hidden_size = len(idx2char) # output from the LSTM, 5 to directly predict one-hot\n",
    "batch_size = len(x_data) # one sentence\n",
    "sequence_length = len(x_data[0])"
   ]
  },
  {
   "cell_type": "code",
   "execution_count": 4,
   "metadata": {
    "collapsed": false
   },
   "outputs": [],
   "source": [
    "# graph setting\n",
    "X = tf.placeholder(dtype = tf.float32, shape = [None, sequence_length, input_dim]) # batch, sequence, dim\n",
    "Y = tf.placeholder(dtype = tf.int32, shape = [None, sequence_length]) # batch, sequence \n",
    "# (배치단위로 sequence 만큼 one-hot encoding이 아닌 True label이 들어있다.)\n",
    "\n",
    "# Declare LSTM cell\n",
    "cell = tf.contrib.rnn.BasicLSTMCell(num_units = hidden_size, forget_bias = 0.9, state_is_tuple = True)\n",
    "initial_state = cell.zero_state(batch_size = batch_size, dtype = tf.float32)\n",
    "outputs, states = tf.nn.dynamic_rnn(cell = cell, inputs = X, sequence_length = [sequence_length],\n",
    "                                    initial_state = initial_state, dtype = tf.float32)\n",
    "\n",
    "# Declare Dense layer\n",
    "outputs_for_fc = tf.reshape(tensor = outputs, shape = [-1, hidden_size])\n",
    "fc_w = tf.get_variable(name = 'fc_w', shape = [hidden_size, num_classes], dtype = tf.float32, initializer = tf.contrib.layers.xavier_initializer())\n",
    "fc_b = tf.Variable(initial_value = tf.random_normal(shape = [num_classes], mean = 0.0, stddev = 1.0, dtype = tf.float32))\n",
    "score = tf.matmul(outputs_for_fc, fc_w) + fc_b\n",
    "\n",
    "# Calculate seq2seq loss\n",
    "score_for_loss = tf.reshape(tensor = score, shape = [batch_size, sequence_length, num_classes])\n",
    "sequence_weights = tf.ones(shape = [batch_size, sequence_length])\n",
    "sequence_loss = tf.contrib.seq2seq.sequence_loss(logits = score_for_loss, targets = Y, weights = sequence_weights)\n",
    "loss = tf.reduce_mean(sequence_loss)\n",
    "\n",
    "# Declare optimizer\n",
    "train = tf.train.AdamOptimizer(learning_rate = 0.01).minimize(loss)\n",
    "\n",
    "# Prediction\n",
    "prediction = tf.argmax(score_for_loss, axis = 2)"
   ]
  },
  {
   "cell_type": "code",
   "execution_count": 5,
   "metadata": {
    "collapsed": false
   },
   "outputs": [
    {
     "name": "stdout",
     "output_type": "stream",
     "text": [
      "step :    0, loss : 1.622, prediction : [[3 3 3 3 3 3]], true Y : [[1, 0, 2, 3, 3, 4]]\n",
      "result_str :  llllll\n",
      "step :  100, loss : 0.237, prediction : [[1 0 2 3 3 4]], true Y : [[1, 0, 2, 3, 3, 4]]\n",
      "result_str :  ihello\n",
      "step :  200, loss : 0.039, prediction : [[1 0 2 3 3 4]], true Y : [[1, 0, 2, 3, 3, 4]]\n",
      "result_str :  ihello\n",
      "step :  300, loss : 0.016, prediction : [[1 0 2 3 3 4]], true Y : [[1, 0, 2, 3, 3, 4]]\n",
      "result_str :  ihello\n",
      "step :  400, loss : 0.009, prediction : [[1 0 2 3 3 4]], true Y : [[1, 0, 2, 3, 3, 4]]\n",
      "result_str :  ihello\n",
      "step :  500, loss : 0.006, prediction : [[1 0 2 3 3 4]], true Y : [[1, 0, 2, 3, 3, 4]]\n",
      "result_str :  ihello\n",
      "step :  600, loss : 0.004, prediction : [[1 0 2 3 3 4]], true Y : [[1, 0, 2, 3, 3, 4]]\n",
      "result_str :  ihello\n",
      "step :  700, loss : 0.003, prediction : [[1 0 2 3 3 4]], true Y : [[1, 0, 2, 3, 3, 4]]\n",
      "result_str :  ihello\n",
      "step :  800, loss : 0.003, prediction : [[1 0 2 3 3 4]], true Y : [[1, 0, 2, 3, 3, 4]]\n",
      "result_str :  ihello\n",
      "step :  900, loss : 0.002, prediction : [[1 0 2 3 3 4]], true Y : [[1, 0, 2, 3, 3, 4]]\n",
      "result_str :  ihello\n"
     ]
    }
   ],
   "source": [
    "# Training \n",
    "with tf.Session() as sess:\n",
    "    sess.run(tf.global_variables_initializer())\n",
    "    for step in range(1000):\n",
    "        loss_val, _ = sess.run([loss, train], feed_dict = {X : x_one_hot, Y : y_data})\n",
    "        hat = sess.run(prediction, feed_dict = {X : x_one_hot})\n",
    "        if step % 100 == 0:\n",
    "            print('step : {:4}, loss : {:.3f}, prediction : {}, true Y : {}'.format(step, loss_val, hat, y_data))\n",
    "            result_str = [idx2char[c] for c in np.squeeze(hat)]\n",
    "            print('result_str : ', ''.join(result_str))"
   ]
  }
 ],
 "metadata": {
  "kernelspec": {
   "display_name": "Python 3",
   "language": "python",
   "name": "python3"
  },
  "language_info": {
   "codemirror_mode": {
    "name": "ipython",
    "version": 3
   },
   "file_extension": ".py",
   "mimetype": "text/x-python",
   "name": "python",
   "nbconvert_exporter": "python",
   "pygments_lexer": "ipython3",
   "version": "3.5.2"
  }
 },
 "nbformat": 4,
 "nbformat_minor": 2
}
