{
 "cells": [
  {
   "cell_type": "markdown",
   "metadata": {},
   "source": [
    "### 모두를 위한 머신러닝/딥러닝 강의\n",
    "김성훈 교수님의 모두를 위한 머신러닝/딥러닝 강의 중 lab 강의 코드입니다.\n",
    "## Lab9_1 NN for XOR"
   ]
  },
  {
   "cell_type": "markdown",
   "metadata": {},
   "source": [
    "### XOR example with logistic regression\n",
    "logistic regression은 선형분류기이므로 XOR 문제를 절대 풀 수 없다. "
   ]
  },
  {
   "cell_type": "code",
   "execution_count": 1,
   "metadata": {
    "collapsed": false
   },
   "outputs": [],
   "source": [
    "import tensorflow as tf\n",
    "import numpy as np\n",
    "tf.set_random_seed(777)"
   ]
  },
  {
   "cell_type": "code",
   "execution_count": 2,
   "metadata": {
    "collapsed": true
   },
   "outputs": [],
   "source": [
    "x_data = [[0, 0],\n",
    "          [0, 1],\n",
    "          [1, 0],\n",
    "          [1, 1]]\n",
    "y_data = [[0],\n",
    "          [1],\n",
    "          [1],\n",
    "          [0]]\n",
    "x_data = np.array(x_data, dtype = np.float32)\n",
    "y_data = np.array(y_data, dtype = np.float32)"
   ]
  },
  {
   "cell_type": "code",
   "execution_count": 3,
   "metadata": {
    "collapsed": false
   },
   "outputs": [
    {
     "name": "stdout",
     "output_type": "stream",
     "text": [
      "step :   0, cost : 0.888\n",
      "step : 1000, cost : 0.693\n",
      "step : 2000, cost : 0.693\n",
      "step : 3000, cost : 0.693\n",
      "step : 4000, cost : 0.693\n",
      "step : 5000, cost : 0.693\n",
      "step : 6000, cost : 0.693\n",
      "step : 7000, cost : 0.693\n",
      "step : 8000, cost : 0.693\n",
      "step : 9000, cost : 0.693\n",
      "step : 10000, cost : 0.693\n",
      "\n",
      "Hypothesis:  [[ 0.5]\n",
      " [ 0.5]\n",
      " [ 0.5]\n",
      " [ 0.5]] \n",
      "Correct:  [[ 0.]\n",
      " [ 0.]\n",
      " [ 0.]\n",
      " [ 0.]] \n",
      "Accuracy:  0.5\n"
     ]
    }
   ],
   "source": [
    "# graph setting (Variable, parameter)\n",
    "X = tf.placeholder(dtype = tf.float32, shape = [None, 2])\n",
    "Y = tf.placeholder(dtype = tf.float32, shape = [None,1])\n",
    "\n",
    "W = tf.Variable(initial_value = tf.random_normal(shape = [2, 1]), name = 'weight')\n",
    "b = tf.Variable(initial_value = tf.random_normal(shape = [1]), name ='bias')\n",
    "\n",
    "# logit and cost\n",
    "hypothesis = tf.sigmoid(tf.matmul(X, W) + b)\n",
    "cost = - tf.reduce_mean(Y * tf.log(hypothesis) + (1- Y) * tf.log(1 - hypothesis))\n",
    "\n",
    "# optimizer (gradient descent)\n",
    "opt = tf.train.GradientDescentOptimizer(learning_rate = 0.8).minimize(cost)\n",
    "\n",
    "# accuracy computation\n",
    "# True if hypothesis>0.5 else False\n",
    "predicted = tf.cast(hypothesis > 0.5, dtype = tf.float32)\n",
    "accuracy = tf.reduce_mean(tf.cast(tf.equal(predicted, Y), dtype = tf.float32))\n",
    "\n",
    "# launch graph\n",
    "with tf.Session() as sess:\n",
    "    sess.run(tf.global_variables_initializer())\n",
    "    \n",
    "    for step in range(10001):\n",
    "        cost_val, _ = sess.run([cost, opt], feed_dict = {X : x_data, Y : y_data})\n",
    "        \n",
    "        if step % 1000 == 0:\n",
    "            print('step : {:3}, cost : {:.3f}'.format(step, cost_val)) \n",
    "        \n",
    "    # accuracy report\n",
    "    h, c, a = sess.run([hypothesis, predicted, accuracy], feed_dict = {X : x_data, Y : y_data})\n",
    "    print(\"\\nHypothesis: \", h, \"\\nCorrect: \", c, \"\\nAccuracy: \", a)"
   ]
  },
  {
   "cell_type": "markdown",
   "metadata": {},
   "source": [
    "### XOR example with neural net (one hidden layer)"
   ]
  },
  {
   "cell_type": "code",
   "execution_count": 4,
   "metadata": {
    "collapsed": false
   },
   "outputs": [
    {
     "name": "stdout",
     "output_type": "stream",
     "text": [
      "step :   0, cost : 1.304\n",
      "step : 1000, cost : 0.025\n",
      "step : 2000, cost : 0.008\n",
      "step : 3000, cost : 0.005\n",
      "step : 4000, cost : 0.003\n",
      "step : 5000, cost : 0.003\n",
      "step : 6000, cost : 0.002\n",
      "step : 7000, cost : 0.002\n",
      "step : 8000, cost : 0.002\n",
      "step : 9000, cost : 0.001\n",
      "step : 10000, cost : 0.001\n",
      "\n",
      "Hypothesis:  [[ 0.00108224]\n",
      " [ 0.99862707]\n",
      " [ 0.99862778]\n",
      " [ 0.00115978]] \n",
      "Correct:  [[ 0.]\n",
      " [ 1.]\n",
      " [ 1.]\n",
      " [ 0.]] \n",
      "Accuracy:  1.0\n"
     ]
    }
   ],
   "source": [
    "# graph setting (Variable, parameter, cost, opt)\n",
    "X = tf.placeholder(dtype = tf.float32, shape = [None, 2])\n",
    "Y = tf.placeholder(dtype = tf.float32, shape = [None, 1])\n",
    "\n",
    "W1 = tf.Variable(initial_value = tf.random_normal(shape = [2,2]), name = 'weight1')\n",
    "b1 = tf.Variable(initial_value = tf.random_normal(shape = [2]), name = 'bias1')\n",
    "layer1 = tf.sigmoid(tf.matmul(X, W1) + b1)\n",
    "\n",
    "W2 = tf.Variable(initial_value = tf.random_normal(shape = [2,1]), name = 'weight2')\n",
    "b2 = tf.Variable(initial_value = tf.random_normal(shape = [1]), name = 'bias2')\n",
    "hypothesis = tf.sigmoid(tf.matmul(layer1, W2) + b2)\n",
    "\n",
    "cost = - tf.reduce_mean(Y * tf.log(hypothesis) + (1 - Y) * tf.log(1 - hypothesis))\n",
    "opt = tf.train.GradientDescentOptimizer(learning_rate = 0.8).minimize(cost)\n",
    "\n",
    "# accuracy computation\n",
    "# True if hypothesis>0.5 else False\n",
    "predicted = tf.cast(hypothesis > 0.5, dtype = tf.float32)\n",
    "accuracy = tf.reduce_mean(tf.cast(tf.equal(predicted, Y), dtype = tf.float32))\n",
    "\n",
    "# launch graph\n",
    "with tf.Session() as sess:\n",
    "    sess.run(tf.global_variables_initializer())\n",
    "\n",
    "    for step in range(10001):\n",
    "        cost_val, _= sess.run([cost, opt], feed_dict={X: x_data, Y: y_data})\n",
    "        if step % 1000 == 0:\n",
    "            print('step : {:3}, cost : {:.3f}'.format(step, cost_val)) \n",
    "\n",
    "    # Accuracy report\n",
    "    h, c, a = sess.run([hypothesis, predicted, accuracy],\n",
    "                       feed_dict={X: x_data, Y: y_data})\n",
    "    print(\"\\nHypothesis: \", h, \"\\nCorrect: \", c, \"\\nAccuracy: \", a)"
   ]
  },
  {
   "cell_type": "markdown",
   "metadata": {},
   "source": [
    "### XOR example with neural net (two hidden layer)"
   ]
  },
  {
   "cell_type": "code",
   "execution_count": 5,
   "metadata": {
    "collapsed": false
   },
   "outputs": [
    {
     "name": "stdout",
     "output_type": "stream",
     "text": [
      "step :   0, cost : 0.699\n",
      "step : 1000, cost : 0.693\n",
      "step : 2000, cost : 0.687\n",
      "step : 3000, cost : 0.007\n",
      "step : 4000, cost : 0.003\n",
      "step : 5000, cost : 0.002\n",
      "step : 6000, cost : 0.001\n",
      "step : 7000, cost : 0.001\n",
      "step : 8000, cost : 0.001\n",
      "step : 9000, cost : 0.001\n",
      "step : 10000, cost : 0.001\n",
      "\n",
      "Hypothesis:  [[  6.43782550e-04]\n",
      " [  9.99619961e-01]\n",
      " [  9.99619961e-01]\n",
      " [  7.22474128e-04]] \n",
      "Correct:  [[ 0.]\n",
      " [ 1.]\n",
      " [ 1.]\n",
      " [ 0.]] \n",
      "Accuracy:  1.0\n"
     ]
    }
   ],
   "source": [
    "# graph setting (Variable, parameter, cost, opt)\n",
    "X = tf.placeholder(dtype = tf.float32, shape = [None, 2])\n",
    "Y = tf.placeholder(dtype = tf.float32, shape = [None, 1])\n",
    "\n",
    "W1 = tf.Variable(initial_value = tf.random_normal(shape = [2,2]), name = 'weight1')\n",
    "b1 = tf.Variable(initial_value = tf.random_normal(shape = [2]), name = 'bias1')\n",
    "layer1 = tf.sigmoid(tf.matmul(X, W1) + b1)\n",
    "\n",
    "W2 = tf.Variable(initial_value = tf.random_normal(shape = [2,2]), name = 'weight2')\n",
    "b2 = tf.Variable(initial_value = tf.random_normal(shape = [2]), name = 'bias2')\n",
    "layer2 = tf.sigmoid(tf.matmul(layer1, W2) + b2)\n",
    "\n",
    "W3 = tf.Variable(initial_value = tf.random_normal(shape = [2,1]), name = 'weight3')\n",
    "b3 = tf.Variable(initial_value = tf.random_normal(shape = [1]), name = 'bias3')\n",
    "hypothesis = tf.sigmoid(tf.matmul(layer2, W3) + b3)\n",
    "\n",
    "cost = - tf.reduce_mean(Y * tf.log(hypothesis) + (1 - Y) * tf.log(1 - hypothesis))\n",
    "opt = tf.train.GradientDescentOptimizer(learning_rate = 0.8).minimize(cost)\n",
    "\n",
    "# accuracy computation\n",
    "# True if hypothesis>0.5 else False\n",
    "predicted = tf.cast(hypothesis > 0.5, dtype = tf.float32)\n",
    "accuracy = tf.reduce_mean(tf.cast(tf.equal(predicted, Y), dtype = tf.float32))\n",
    "\n",
    "# launch graph\n",
    "with tf.Session() as sess:\n",
    "    sess.run(tf.global_variables_initializer())\n",
    "\n",
    "    for step in range(10001):\n",
    "        cost_val, _= sess.run([cost, opt], feed_dict={X: x_data, Y: y_data})\n",
    "        if step % 1000 == 0:\n",
    "            print('step : {:3}, cost : {:.3f}'.format(step, cost_val)) \n",
    "\n",
    "    # Accuracy report\n",
    "    h, c, a = sess.run([hypothesis, predicted, accuracy],\n",
    "                       feed_dict = {X: x_data, Y: y_data})\n",
    "    print(\"\\nHypothesis: \", h, \"\\nCorrect: \", c, \"\\nAccuracy: \", a)"
   ]
  },
  {
   "cell_type": "markdown",
   "metadata": {},
   "source": [
    "### XOR example with neural net (one hidden layer, more hidden nodes)"
   ]
  },
  {
   "cell_type": "code",
   "execution_count": 6,
   "metadata": {
    "collapsed": false
   },
   "outputs": [
    {
     "name": "stdout",
     "output_type": "stream",
     "text": [
      "step :   0, cost : 1.462\n",
      "step : 1000, cost : 0.009\n",
      "step : 2000, cost : 0.004\n",
      "step : 3000, cost : 0.002\n",
      "step : 4000, cost : 0.002\n",
      "step : 5000, cost : 0.001\n",
      "step : 6000, cost : 0.001\n",
      "step : 7000, cost : 0.001\n",
      "step : 8000, cost : 0.001\n",
      "step : 9000, cost : 0.001\n",
      "step : 10000, cost : 0.001\n",
      "\n",
      "Hypothesis:  [[  5.25488402e-04]\n",
      " [  9.99493718e-01]\n",
      " [  9.99337971e-01]\n",
      " [  5.33981074e-04]] \n",
      "Correct:  [[ 0.]\n",
      " [ 1.]\n",
      " [ 1.]\n",
      " [ 0.]] \n",
      "Accuracy:  1.0\n"
     ]
    }
   ],
   "source": [
    "#### graph setting (Variable, parameter, cost, opt)\n",
    "X = tf.placeholder(dtype = tf.float32, shape = [None, 2])\n",
    "Y = tf.placeholder(dtype = tf.float32, shape = [None, 1])\n",
    "\n",
    "W1 = tf.Variable(initial_value = tf.random_normal(shape = [2,10]), name = 'weight1')\n",
    "b1 = tf.Variable(initial_value = tf.random_normal(shape = [10]), name = 'bias1')\n",
    "layer1 = tf.sigmoid(tf.matmul(X, W1) + b1)\n",
    "\n",
    "W2 = tf.Variable(initial_value = tf.random_normal(shape = [10,1]), name = 'weight2')\n",
    "b2 = tf.Variable(initial_value = tf.random_normal(shape = [1]), name = 'bias2')\n",
    "hypothesis = tf.sigmoid(tf.matmul(layer1, W2) + b2)\n",
    "\n",
    "cost = - tf.reduce_mean(Y * tf.log(hypothesis) + (1 - Y) * tf.log(1 - hypothesis))\n",
    "opt = tf.train.GradientDescentOptimizer(learning_rate = 0.8).minimize(cost)\n",
    "\n",
    "# accuracy computation\n",
    "# True if hypothesis>0.5 else False\n",
    "predicted = tf.cast(hypothesis > 0.5, dtype = tf.float32)\n",
    "accuracy = tf.reduce_mean(tf.cast(tf.equal(predicted, Y), dtype = tf.float32))\n",
    "\n",
    "# launch graph\n",
    "with tf.Session() as sess:\n",
    "    sess.run(tf.global_variables_initializer())\n",
    "\n",
    "    for step in range(10001):\n",
    "        cost_val, _= sess.run([cost, opt], feed_dict={X: x_data, Y: y_data})\n",
    "        if step % 1000 == 0:\n",
    "            print('step : {:3}, cost : {:.3f}'.format(step, cost_val)) \n",
    "\n",
    "    # Accuracy report\n",
    "    h, c, a = sess.run([hypothesis, predicted, accuracy],\n",
    "                       feed_dict={X: x_data, Y: y_data})\n",
    "    print(\"\\nHypothesis: \", h, \"\\nCorrect: \", c, \"\\nAccuracy: \", a)"
   ]
  }
 ],
 "metadata": {
  "kernelspec": {
   "display_name": "Python 3",
   "language": "python",
   "name": "python3"
  },
  "language_info": {
   "codemirror_mode": {
    "name": "ipython",
    "version": 3
   },
   "file_extension": ".py",
   "mimetype": "text/x-python",
   "name": "python",
   "nbconvert_exporter": "python",
   "pygments_lexer": "ipython3",
   "version": "3.5.2"
  }
 },
 "nbformat": 4,
 "nbformat_minor": 2
}
