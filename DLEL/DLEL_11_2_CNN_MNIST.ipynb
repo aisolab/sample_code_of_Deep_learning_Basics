{
 "cells": [
  {
   "cell_type": "markdown",
   "metadata": {
    "collapsed": true
   },
   "source": [
    "### 모두를 위한 머신러닝/딥러닝 강의\n",
    "김성훈 교수님의 모두를 위한 머신러닝/딥러닝 강의 중 lab 강의 코드입니다.\n",
    "## Lab11_2 CNN MNIST\n",
    "simple structure : Conv1 - Max pooling - Conv2 - Max pooling - fully-connected"
   ]
  },
  {
   "cell_type": "code",
   "execution_count": 1,
   "metadata": {
    "collapsed": true
   },
   "outputs": [],
   "source": [
    "import os, sys\n",
    "import tensorflow as tf\n",
    "import numpy as np \n",
    "import random\n",
    "import matplotlib.pylab as plt\n",
    "%matplotlib inline\n",
    "from tensorflow.examples.tutorials.mnist import input_data"
   ]
  },
  {
   "cell_type": "code",
   "execution_count": 2,
   "metadata": {
    "collapsed": false
   },
   "outputs": [
    {
     "data": {
      "text/plain": [
       "['.ipynb_checkpoints',\n",
       " 'Data structures and algorithms_warm_up.ipynb',\n",
       " 'Data structures and algorithms_week_1.ipynb',\n",
       " 'DLEL',\n",
       " 'DLEL.zip',\n",
       " 'DLEL_10_1_accuracy_loss.PNG',\n",
       " 'DLEL_10_1_activation_histogram.PNG',\n",
       " 'DLEL_10_1_example_graph.PNG',\n",
       " 'DLEL_10_1_Weight_initialization.ipynb',\n",
       " 'DLEL_10_2_Drop_out.ipynb',\n",
       " 'DLEL_11_2_CNN_MNIST.ipynb',\n",
       " 'logs',\n",
       " 'MNIST_data',\n",
       " 'py-automate',\n",
       " 'untitled.txt']"
      ]
     },
     "execution_count": 2,
     "metadata": {},
     "output_type": "execute_result"
    }
   ],
   "source": [
    "os.listdir()"
   ]
  },
  {
   "cell_type": "code",
   "execution_count": 3,
   "metadata": {
    "collapsed": false
   },
   "outputs": [
    {
     "name": "stdout",
     "output_type": "stream",
     "text": [
      "Extracting ./MNIST_data/train-images-idx3-ubyte.gz\n",
      "Extracting ./MNIST_data/train-labels-idx1-ubyte.gz\n",
      "Extracting ./MNIST_data/t10k-images-idx3-ubyte.gz\n",
      "Extracting ./MNIST_data/t10k-labels-idx1-ubyte.gz\n"
     ]
    }
   ],
   "source": [
    "tf.set_random_seed(777)\n",
    "mnist = input_data.read_data_sets(train_dir = './MNIST_data/', one_hot = True)"
   ]
  },
  {
   "cell_type": "code",
   "execution_count": 4,
   "metadata": {
    "collapsed": true
   },
   "outputs": [],
   "source": [
    "# graph setting\n",
    "X = tf.placeholder(dtype = tf.float32, shape = [None, 784])\n",
    "Ximg = tf.reshape(tensor = X, shape = [-1,28,28,1])\n",
    "Y = tf.placeholder(dtype = tf.float32, shape = [None, 10])\n",
    "\n",
    "# conv1 layer\n",
    "with tf.variable_scope('conv1_layer'):\n",
    "    filter_weight1 = tf.get_variable(name = 'weight1', shape = [3,3,1,32], initializer = tf.contrib.layers.xavier_initializer())\n",
    "    conv1 = tf.nn.conv2d(input = Ximg, filter = filter_weight1, strides = [1,1,1,1], padding = 'SAME')\n",
    "    relu1 = tf.nn.relu(features = conv1)\n",
    "\n",
    "# pool1 layer\n",
    "with tf.variable_scope('pool1_layer'):\n",
    "    pooled1 = tf.nn.max_pool(value = relu1, ksize = [1,2,2,1], strides = [1,2,2,1], padding = 'SAME')\n",
    "\n",
    "# conv2 layer\n",
    "with tf.variable_scope('conv2_layer'):\n",
    "    filter_weight2 = tf.get_variable(name = 'weight2', shape = [3,3,32,64], initializer = tf.contrib.layers.xavier_initializer())\n",
    "    conv2 = tf.nn.conv2d(input = pooled1, filter = filter_weight2, strides = [1,1,1,1], padding = 'SAME')\n",
    "    relu2 = tf.nn.relu(features = conv2)\n",
    "\n",
    "# pool2 layer\n",
    "with tf.variable_scope('pool2_layer'):\n",
    "    pooled2 = tf.nn.max_pool(value = relu2, ksize = [1,2,2,1], strides = [1,2,2,1], padding = 'SAME')\n",
    "\n",
    "# fully_connected layer\n",
    "with tf.variable_scope('fully-connected_layer'):\n",
    "    pooled_vector = tf.reshape(tensor = pooled2, shape = [-1, 7 * 7 * 64])\n",
    "    fully_weight = tf.get_variable(name = 'fully_weight', shape = [7 * 7 * 64, 10], initializer = tf.contrib.layers.xavier_initializer())\n",
    "    b = tf.Variable(initial_value = tf.random_normal(shape = [10]), name = 'bias')\n",
    "    score = tf.matmul(pooled_vector, fully_weight) + b\n",
    "    \n",
    "# loss\n",
    "with tf.variable_scope('loss'):\n",
    "    loss = tf.reduce_mean(tf.nn.softmax_cross_entropy_with_logits(labels = Y, logits = score))\n",
    "\n",
    "# train\n",
    "with tf.variable_scope('train'):\n",
    "    train = tf.train.AdamOptimizer(learning_rate = 0.001).minimize(loss)\n",
    "    \n",
    "# accuracy\n",
    "with tf.variable_scope('accuracy'):\n",
    "    is_correct = tf.cast(tf.equal(tf.argmax(score, axis = 1), tf.argmax(Y, axis = 1)), dtype = tf.float32)\n",
    "    accuracy = tf.reduce_mean(is_correct)"
   ]
  },
  {
   "cell_type": "code",
   "execution_count": 5,
   "metadata": {
    "collapsed": false
   },
   "outputs": [
    {
     "name": "stdout",
     "output_type": "stream",
     "text": [
      "epoch :    0, tr_loss : 0.274, tr_acc : 99.00%, val_loss : 0.258, val_acc : 97.34%\n",
      "test accuracy : 97.42%\n",
      "epoch :    1, tr_loss : 0.067, tr_acc : 99.00%, val_loss : 0.066, val_acc : 98.44%\n",
      "test accuracy : 98.29%\n",
      "epoch :    2, tr_loss : 0.049, tr_acc : 99.00%, val_loss : 0.051, val_acc : 98.64%\n",
      "test accuracy : 98.69%\n",
      "epoch :    3, tr_loss : 0.039, tr_acc : 98.00%, val_loss : 0.048, val_acc : 98.52%\n",
      "test accuracy : 98.49%\n",
      "epoch :    4, tr_loss : 0.032, tr_acc : 100.00%, val_loss : 0.043, val_acc : 98.86%\n",
      "test accuracy : 98.78%\n",
      "epoch :    5, tr_loss : 0.027, tr_acc : 100.00%, val_loss : 0.041, val_acc : 98.78%\n",
      "test accuracy : 98.86%\n",
      "epoch :    6, tr_loss : 0.023, tr_acc : 99.00%, val_loss : 0.041, val_acc : 98.64%\n",
      "test accuracy : 98.79%\n",
      "epoch :    7, tr_loss : 0.020, tr_acc : 96.00%, val_loss : 0.040, val_acc : 98.80%\n",
      "test accuracy : 98.63%\n",
      "epoch :    8, tr_loss : 0.017, tr_acc : 99.00%, val_loss : 0.039, val_acc : 99.06%\n",
      "test accuracy : 99.03%\n",
      "epoch :    9, tr_loss : 0.014, tr_acc : 98.00%, val_loss : 0.039, val_acc : 98.98%\n",
      "test accuracy : 98.82%\n",
      "epoch :   10, tr_loss : 0.013, tr_acc : 100.00%, val_loss : 0.041, val_acc : 99.04%\n",
      "test accuracy : 98.98%\n",
      "epoch :   11, tr_loss : 0.010, tr_acc : 99.00%, val_loss : 0.040, val_acc : 99.08%\n",
      "test accuracy : 99.14%\n",
      "epoch :   12, tr_loss : 0.010, tr_acc : 100.00%, val_loss : 0.041, val_acc : 99.02%\n",
      "test accuracy : 98.95%\n",
      "epoch :   13, tr_loss : 0.007, tr_acc : 100.00%, val_loss : 0.041, val_acc : 98.96%\n",
      "test accuracy : 99.02%\n",
      "epoch :   14, tr_loss : 0.006, tr_acc : 99.00%, val_loss : 0.043, val_acc : 98.78%\n",
      "test accuracy : 98.72%\n",
      "Label :  [2]\n",
      "Prediction :  [2]\n"
     ]
    },
    {
     "data": {
      "image/png": "[encoded data removed]",
      "text/plain": [
       "<matplotlib.figure.Figure at 0x2230000b240>"
      ]
     },
     "metadata": {},
     "output_type": "display_data"
    }
   ],
   "source": [
    "# parameter setting\n",
    "batch_size = 100\n",
    "epochs = 15\n",
    "tr_loss_history = []\n",
    "tr_acc_history = []\n",
    "val_loss_history = []\n",
    "val_acc_history = []\n",
    "\n",
    "# launch graph\n",
    "with tf.Session() as sess:\n",
    "    sess.run(tf.global_variables_initializer())\n",
    "\n",
    "    for epoch in range(epochs):\n",
    "        total_batch = int(mnist.train.num_examples / batch_size)\n",
    "        avg_tr_loss = 0\n",
    "        avg_val_loss = 0\n",
    "\n",
    "        for step in range(total_batch):\n",
    "            batch_xs, batch_ys = mnist.train.next_batch(batch_size)\n",
    "            tr_loss, _ = sess.run([loss, train], feed_dict = {X : batch_xs, Y : batch_ys})\n",
    "            val_loss = sess.run(loss, feed_dict = {X : mnist.validation.images, Y : mnist.validation.labels})\n",
    "            avg_tr_loss += tr_loss / total_batch\n",
    "            avg_val_loss += val_loss / total_batch\n",
    "        \n",
    "        tr_acc = sess.run(accuracy, feed_dict = {X : batch_xs, Y : batch_ys})\n",
    "        val_acc = sess.run(accuracy, feed_dict = {X : mnist.validation.images, Y : mnist.validation.labels})\n",
    "        \n",
    "        tr_loss_history.append(avg_tr_loss)\n",
    "        tr_acc_history.append(tr_acc)\n",
    "        val_loss_history.append(avg_val_loss)\n",
    "        val_acc_history.append(val_acc)\n",
    "        \n",
    "        print('epoch : {:4}, tr_loss : {:.3f}, tr_acc : {:.2%}, val_loss : {:.3f}, val_acc : {:.2%}'.format(epoch, avg_tr_loss,\n",
    "                                                                                                               tr_acc, avg_val_loss,\n",
    "                                                                                                               val_acc))\n",
    "    \n",
    "        print('test accuracy : {:.2%}'.format(sess.run(accuracy, feed_dict = {X : mnist.test.images, Y : mnist.test.labels})))\n",
    "    # Get one and predict\n",
    "    r = random.randint(0,mnist.test.num_examples - 1)\n",
    "    print('Label : ', sess.run(tf.argmax(mnist.test.labels[r:r+1], axis = 1)))\n",
    "    print('Prediction : ', sess.run(tf.argmax(score, axis = 1), feed_dict = {X : mnist.test.images[r:r+1]}))\n",
    "   \n",
    "    plt.imshow(mnist.test.images[r:r + 1].reshape(28, 28), cmap='Greys', interpolation='nearest')"
   ]
  },
  {
   "cell_type": "code",
   "execution_count": 6,
   "metadata": {
    "collapsed": false
   },
   "outputs": [
    {
     "data": {
      "text/plain": [
       "<matplotlib.legend.Legend at 0x223001c9898>"
      ]
     },
     "execution_count": 6,
     "metadata": {},
     "output_type": "execute_result"
    },
    {
     "data": {
      "image/png": "[encoded data removed]",
      "text/plain": [
       "<matplotlib.figure.Figure at 0x223000011d0>"
      ]
     },
     "metadata": {},
     "output_type": "display_data"
    }
   ],
   "source": [
    "fig = plt.figure()\n",
    "loss_history = fig.add_subplot(1,2,1)\n",
    "loss_history.plot(tr_loss_history, label = 'tr_loss')\n",
    "loss_history.plot(val_loss_history, label = 'val_loss')\n",
    "loss_history.title.set_text('loss')\n",
    "loss_history.legend(loc = 'upper right')\n",
    "\n",
    "acc_history = fig.add_subplot(1,2,2)\n",
    "acc_history.plot(tr_acc_history, label = 'tr_acc')\n",
    "acc_history.plot(val_acc_history, label = 'val_acc')\n",
    "acc_history.title.set_text('accuracy')\n",
    "acc_history.legend(loc = 'upper right')"
   ]
  }
 ],
 "metadata": {
  "kernelspec": {
   "display_name": "Python 3",
   "language": "python",
   "name": "python3"
  },
  "language_info": {
   "codemirror_mode": {
    "name": "ipython",
    "version": 3
   },
   "file_extension": ".py",
   "mimetype": "text/x-python",
   "name": "python",
   "nbconvert_exporter": "python",
   "pygments_lexer": "ipython3",
   "version": "3.5.2"
  }
 },
 "nbformat": 4,
 "nbformat_minor": 2
}
