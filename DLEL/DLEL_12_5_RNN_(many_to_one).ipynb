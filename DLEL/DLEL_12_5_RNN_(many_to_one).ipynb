{
 "cells": [
  {
   "cell_type": "markdown",
   "metadata": {},
   "source": [
    "### 모두를 위한 머신러닝/딥러닝 강의\n",
    "김성훈 교수님의 모두를 위한 머신러닝/딥러닝 강의 중 lab 강의 코드입니다.\n",
    "## Lab12_5 RNN (many to one)\n",
    "기존의 Lab 코드에서 many to many example만 다루었던 반면에 이번에는 단순한 주가 예측의 문제를 many to one의 문제로 풀어내는 예제\n",
    "![alt text](http://i.imgur.com/xeSnmj4.png)"
   ]
  },
  {
   "cell_type": "markdown",
   "metadata": {},
   "source": [
    "### Load modules"
   ]
  },
  {
   "cell_type": "code",
   "execution_count": 1,
   "metadata": {
    "collapsed": false
   },
   "outputs": [],
   "source": [
    "import os, sys\n",
    "import tensorflow as tf\n",
    "import numpy as np\n",
    "import matplotlib.pylab as plt\n",
    "%matplotlib inline\n",
    "tf.set_random_seed(777)"
   ]
  },
  {
   "cell_type": "markdown",
   "metadata": {},
   "source": [
    "### Data pre-processing & RNN parameter setting\n",
    "데이터는 아래의 그림과 같다.\n",
    "![alt text](http://i.imgur.com/gA0DgMP.png)"
   ]
  },
  {
   "cell_type": "code",
   "execution_count": 2,
   "metadata": {
    "collapsed": false
   },
   "outputs": [],
   "source": [
    "# define user function 'MinMaxScaler'\n",
    "def MinMaxScaler(data):\n",
    "    ''' Min Max Normalization\n",
    "    Parameters\n",
    "    ----------\n",
    "    data : numpy.ndarray\n",
    "        input data to be normalized\n",
    "        shape: [Batch size, dimension]\n",
    "    Returns\n",
    "    ----------\n",
    "    data : numpy.ndarry\n",
    "        normalized data\n",
    "        shape: [Batch size, dimension]\n",
    "    References\n",
    "    ----------\n",
    "    .. [1] http://sebastianraschka.com/Articles/2014_about_feature_scaling.html\n",
    "    '''\n",
    "    numerator = data - np.min(data, 0)\n",
    "    denominator = np.max(data, 0) - np.min(data, 0)\n",
    "    # noise term prevents the zero division\n",
    "    return numerator / (denominator + 1e-7)"
   ]
  },
  {
   "cell_type": "code",
   "execution_count": 3,
   "metadata": {
    "collapsed": false
   },
   "outputs": [],
   "source": [
    "# load stock dataset\n",
    "xy = np.loadtxt(fname = './data-02-stock_daily.csv', delimiter = ',')\n",
    "xy = xy[::-1,:] # reverse order (chronically ordered)\n",
    "xy = MinMaxScaler(xy)\n",
    "x = xy\n",
    "y = xy[:,[-1]]\n",
    "\n",
    "# train Parameters\n",
    "seq_length = 7\n",
    "data_dim = 5\n",
    "hidden_dim = 10\n",
    "output_dim = 1\n",
    "learning_rate = 0.01\n",
    "iterations = 500"
   ]
  },
  {
   "cell_type": "code",
   "execution_count": 4,
   "metadata": {
    "collapsed": false
   },
   "outputs": [
    {
     "name": "stdout",
     "output_type": "stream",
     "text": [
      "[[  2.13751054e-01   2.08179810e-01   1.91791832e-01   4.66075110e-04\n",
      "    1.92092403e-01]\n",
      " [  1.93935034e-01   2.03641926e-01   2.08664571e-01   2.98467330e-03\n",
      "    1.96551555e-01]\n",
      " [  2.10516454e-01   2.05289413e-01   2.03558748e-01   2.59926504e-04\n",
      "    1.87749731e-01]\n",
      " [  1.86678765e-01   2.09480567e-01   2.08781843e-01   0.00000000e+00\n",
      "    2.17448151e-01]\n",
      " [  3.06973882e-01   3.14634137e-01   2.18993665e-01   1.24764722e-02\n",
      "    2.16981885e-01]\n",
      " [  2.19142110e-01   2.63907214e-01   2.24686396e-01   4.56323384e-01\n",
      "    2.24967473e-01]\n",
      " [  2.33129931e-01   2.36419163e-01   1.62682724e-01   5.70171193e-01\n",
      "    1.47442742e-01]] -> [ 0.13289962]\n",
      "[[ 0.12151186  0.11914782  0.13192321  0.12371605  0.11884485]\n",
      " [ 0.11265303  0.11024531  0.11349523  0.13558304  0.09990092]\n",
      " [ 0.09589689  0.09602454  0.10401724  0.12973021  0.09949285]\n",
      " [ 0.10114225  0.12250061  0.1226211   0.16197006  0.12863737]\n",
      " [ 0.12755868  0.12429265  0.13339039  0.10841624  0.12257526]\n",
      " [ 0.10766983  0.1073549   0.12499794  0.08496011  0.1159304 ]\n",
      " [ 0.0971791   0.0934231   0.10692225  0.14563055  0.10097925]] -> [ 0.10374802]\n",
      "[[ 0.83590638  0.83075212  0.85929673  0.06566281  0.84713699]\n",
      " [ 0.84246313  0.84258825  0.85844565  0.08338263  0.84486381]\n",
      " [ 0.83240941  0.82377166  0.83888505  0.09143139  0.82941725]\n",
      " [ 0.82372542  0.82328034  0.83913758  0.08212781  0.83749016]\n",
      " [ 0.83156439  0.82920565  0.84931978  0.06377162  0.83046641]\n",
      " [ 0.81696466  0.81255686  0.83796375  0.07650802  0.8244043 ]\n",
      " [ 0.8119233   0.80515742  0.82892582  0.08456574  0.81487416]] -> [ 0.81467013]\n"
     ]
    }
   ],
   "source": [
    "# build a dataset\n",
    "dataX = []\n",
    "dataY = []\n",
    "\n",
    "for i in range(0, y.shape[0] - seq_length):\n",
    "    _x = x[i:i + seq_length]\n",
    "    _y = y[i+seq_length] # Next close price\n",
    "    if i % 300 == 0 or i == (y.shape[0] - seq_length):\n",
    "        print(_x, '->', _y)\n",
    "    dataX.append(_x)\n",
    "    dataY.append(_y)"
   ]
  },
  {
   "cell_type": "code",
   "execution_count": 5,
   "metadata": {
    "collapsed": true
   },
   "outputs": [],
   "source": [
    "# train/test split\n",
    "train_size = int(len(dataX) * 0.7)\n",
    "test_size = len(dataX) - train_size\n",
    "trainX, testX = np.array(dataX[0:train_size]), np.array(dataX[train_size:len(dataX)])\n",
    "trainY, testY = np.array(dataY[0:train_size]), np.array(dataY[train_size:len(dataX)])"
   ]
  },
  {
   "cell_type": "markdown",
   "metadata": {},
   "source": [
    "### Build a graph"
   ]
  },
  {
   "cell_type": "code",
   "execution_count": 6,
   "metadata": {
    "collapsed": false
   },
   "outputs": [],
   "source": [
    "## Graph setting\n",
    "X = tf.placeholder(dtype = tf.float32, shape = [None, seq_length, data_dim]) # seq_length = 7 , data_dim = 5\n",
    "Y = tf.placeholder(dtype = tf.float32, shape = [None, output_dim]) # output_dim = 1\n",
    "\n",
    "# build a lstm cell\n",
    "cell = tf.contrib.rnn.BasicLSTMCell(num_units = hidden_dim, forget_bias = 0.9, state_is_tuple = True)\n",
    "outputs, states = tf.nn.dynamic_rnn(cell = cell, inputs = X, dtype = tf.float32)\n",
    "\n",
    "# FC layer\n",
    "output = outputs[:,-1,:] # sequence의 마지막 output만 사용한다!\n",
    "dense_weight = tf.get_variable(name = 'dense_weight', shape = [10, output_dim], dtype = tf.float32,\n",
    "                               initializer = tf.contrib.layers.xavier_initializer())\n",
    "bias = tf.Variable(name = 'bias', initial_value = tf.random_normal(shape = [1]))\n",
    "Y_pred = tf.matmul(output, dense_weight) + bias\n",
    "\n",
    "# Define loss\n",
    "loss = tf.reduce_mean(tf.square(Y_pred - Y))\n",
    "\n",
    "# Define optimizer\n",
    "opt = tf.train.AdamOptimizer(learning_rate = learning_rate).minimize(loss)\n",
    "\n",
    "# rmse\n",
    "targets = tf.placeholder(dtype = tf.float32, shape = [None, 1])\n",
    "predictions = tf.placeholder(dtype = tf.float32, shape = [None, 1])\n",
    "rmse = tf.sqrt(tf.reduce_mean(tf.square(targets - predictions)))"
   ]
  },
  {
   "cell_type": "markdown",
   "metadata": {},
   "source": [
    "### Training & Test"
   ]
  },
  {
   "cell_type": "code",
   "execution_count": 7,
   "metadata": {
    "collapsed": false
   },
   "outputs": [
    {
     "name": "stdout",
     "output_type": "stream",
     "text": [
      "step :    0, tr_loss : 3.4205\n",
      "step :  100, tr_loss : 0.0013\n",
      "step :  200, tr_loss : 0.0012\n",
      "step :  300, tr_loss : 0.0011\n",
      "step :  400, tr_loss : 0.0011\n",
      "step :  499, tr_loss : 0.0011\n",
      "RMSE : 0.0449\n"
     ]
    }
   ],
   "source": [
    "with tf.Session() as sess:\n",
    "    sess.run(tf.global_variables_initializer())\n",
    "    \n",
    "    # Training step\n",
    "    for step in range(iterations):\n",
    "        loss_val, _ = sess.run([loss, opt], feed_dict = {X : trainX,Y : trainY})\n",
    "        \n",
    "        if step % 100 == 0 or step == (iterations - 1):\n",
    "            print('step : {:4}, tr_loss : {:.4f}'.format(step, loss_val))\n",
    "    \n",
    "    # Test step\n",
    "    test_predict = sess.run(Y_pred, feed_dict = {X: testX })\n",
    "    rmse_val = sess.run(rmse, feed_dict = {targets : testY, predictions : test_predict})\n",
    "    print('RMSE : {:.4f}'.format(rmse_val))   "
   ]
  },
  {
   "cell_type": "code",
   "execution_count": 8,
   "metadata": {
    "collapsed": false
   },
   "outputs": [
    {
     "data": {
      "text/plain": [
       "<matplotlib.text.Text at 0x1b470feaf60>"
      ]
     },
     "execution_count": 8,
     "metadata": {},
     "output_type": "execute_result"
    },
    {
     "data": {
      "image/png": "[encoded data removed]",
      "text/plain": [
       "<matplotlib.figure.Figure at 0x1b46e73ce80>"
      ]
     },
     "metadata": {},
     "output_type": "display_data"
    }
   ],
   "source": [
    "# Plot predictions\n",
    "plt.plot(testY)\n",
    "plt.plot(test_predict)\n",
    "plt.xlabel(\"Time Period\")\n",
    "plt.ylabel(\"Stock Price\")"
   ]
  }
 ],
 "metadata": {
  "kernelspec": {
   "display_name": "Python 3",
   "language": "python",
   "name": "python3"
  },
  "language_info": {
   "codemirror_mode": {
    "name": "ipython",
    "version": 3
   },
   "file_extension": ".py",
   "mimetype": "text/x-python",
   "name": "python",
   "nbconvert_exporter": "python",
   "pygments_lexer": "ipython3",
   "version": "3.5.2"
  }
 },
 "nbformat": 4,
 "nbformat_minor": 2
}
