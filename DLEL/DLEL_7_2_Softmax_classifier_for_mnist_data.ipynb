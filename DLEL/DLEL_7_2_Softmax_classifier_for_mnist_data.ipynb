{
 "cells": [
  {
   "cell_type": "markdown",
   "metadata": {},
   "source": [
    "## 모두를 위한 머신러닝/딥러닝 강의\n",
    "김성훈 교수님의 모두를 위한 머신러닝/딥러닝 강의 중 lab 강의 코드입니다.\n",
    "## Lab7_2 Softmax classifier for mnist data (mini-batch learning)\n",
    "참고 : https://www.tensorflow.org/get_started/mnist/beginners"
   ]
  },
  {
   "cell_type": "code",
   "execution_count": 1,
   "metadata": {
    "collapsed": false
   },
   "outputs": [
    {
     "data": {
      "text/plain": [
       "['.ipynb_checkpoints',\n",
       " 'data-01-test-score.csv',\n",
       " 'data-02-test-score.csv',\n",
       " 'data-03-test-score.csv',\n",
       " 'data-04-test-score.csv',\n",
       " 'data-05-test-score.csv',\n",
       " 'diabetes.csv',\n",
       " 'DLEL.zip',\n",
       " 'DLEL_1_TensorFlow_Basics.ipynb',\n",
       " 'DLEL_2_Linear_regression.ipynb',\n",
       " 'DLEL_3_Minimizing_Cost.ipynb',\n",
       " 'DLEL_4_1_Multi-variable_linear_regression.ipynb',\n",
       " 'DLEL_4_2_Loading_Data_from_File.ipynb',\n",
       " 'DLEL_5_Logistic_regression.ipynb',\n",
       " 'DLEL_6_Softmax_Classifier.ipynb',\n",
       " 'DLEL_7_1_Learning_rate_&_Evaluation_&_pre-processing.ipynb',\n",
       " 'DLEL_7_2_Softmax_classifier_for_mnist_data.ipynb',\n",
       " 'MNIST_data',\n",
       " 'zoo.csv']"
      ]
     },
     "execution_count": 1,
     "metadata": {},
     "output_type": "execute_result"
    }
   ],
   "source": [
    "import sys, os\n",
    "import tensorflow as tf\n",
    "import numpy as np\n",
    "import matplotlib.pylab as plt\n",
    "import random\n",
    "from tensorflow.examples.tutorials.mnist import input_data\n",
    "tf.set_random_seed(777) #for reproducibility\n",
    "os.listdir()"
   ]
  },
  {
   "cell_type": "code",
   "execution_count": 2,
   "metadata": {
    "collapsed": false
   },
   "outputs": [
    {
     "name": "stdout",
     "output_type": "stream",
     "text": [
      "Extracting MNIST_data/train-images-idx3-ubyte.gz\n",
      "Extracting MNIST_data/train-labels-idx1-ubyte.gz\n",
      "Extracting MNIST_data/t10k-images-idx3-ubyte.gz\n",
      "Extracting MNIST_data/t10k-labels-idx1-ubyte.gz\n"
     ]
    },
    {
     "data": {
      "text/plain": [
       "tensorflow.contrib.learn.python.learn.datasets.base.Datasets"
      ]
     },
     "execution_count": 2,
     "metadata": {},
     "output_type": "execute_result"
    }
   ],
   "source": [
    "mnist = input_data.read_data_sets('MNIST_data/', one_hot = True)\n",
    "nb_classes = 10\n",
    "type(mnist)"
   ]
  },
  {
   "cell_type": "code",
   "execution_count": 3,
   "metadata": {
    "collapsed": false
   },
   "outputs": [],
   "source": [
    "# graph setting (placeholder, Variable)\n",
    "X = tf.placeholder(dtype = tf.float32, shape = [None, 784])\n",
    "Y = tf.placeholder(dtype = tf.float32, shape = [None, nb_classes])\n",
    "\n",
    "W = tf.Variable(initial_value = tf.random_normal(shape = [784, nb_classes]), name = 'weight')\n",
    "b = tf.Variable(initial_value = tf.random_normal(shape = [nb_classes]), name = 'bias')"
   ]
  },
  {
   "cell_type": "code",
   "execution_count": 4,
   "metadata": {
    "collapsed": true
   },
   "outputs": [],
   "source": [
    "# graph setting (logits, cost)\n",
    "logits = tf.matmul(X, W) + b\n",
    "score = tf.nn.softmax(logits) # prediction을 위해\n",
    "cost = tf.reduce_mean(tf.nn.softmax_cross_entropy_with_logits(logits = logits, labels = Y))\n",
    "acc = tf.reduce_mean(tf.cast(tf.equal(tf.argmax(logits, axis = 1), tf.argmax(Y, axis = 1)), dtype = tf.float32))\n",
    "\n",
    "# optimizer\n",
    "opt = tf.train.GradientDescentOptimizer(learning_rate = 0.001).minimize(cost)"
   ]
  },
  {
   "cell_type": "code",
   "execution_count": 5,
   "metadata": {
    "collapsed": false
   },
   "outputs": [
    {
     "name": "stdout",
     "output_type": "stream",
     "text": [
      "epoch :    1, tr_cost : 13.3346, tr_acc : 13.76%, val_cost : 12.3029, val_acc : 13.66%\n",
      "epoch :   51, tr_cost : 1.9077, tr_acc : 64.51%, val_cost : 1.8299, val_acc : 65.21%\n",
      "epoch :  101, tr_cost : 1.2665, tr_acc : 74.47%, val_cost : 1.2016, val_acc : 75.48%\n",
      "epoch :  151, tr_cost : 1.0320, tr_acc : 78.41%, val_cost : 0.9706, val_acc : 79.43%\n",
      "epoch :  201, tr_cost : 0.9054, tr_acc : 80.74%, val_cost : 0.8472, val_acc : 81.52%\n",
      "epoch :  251, tr_cost : 0.8246, tr_acc : 82.24%, val_cost : 0.7697, val_acc : 83.10%\n",
      "epoch :  301, tr_cost : 0.7674, tr_acc : 83.25%, val_cost : 0.7159, val_acc : 84.30%\n",
      "epoch :  351, tr_cost : 0.7241, tr_acc : 84.05%, val_cost : 0.6758, val_acc : 85.16%\n",
      "epoch :  401, tr_cost : 0.6898, tr_acc : 84.72%, val_cost : 0.6446, val_acc : 85.82%\n",
      "epoch :  451, tr_cost : 0.6616, tr_acc : 85.24%, val_cost : 0.6193, val_acc : 86.28%\n",
      "epoch :  501, tr_cost : 0.6379, tr_acc : 85.70%, val_cost : 0.5983, val_acc : 86.56%\n",
      "epoch :  551, tr_cost : 0.6174, tr_acc : 86.05%, val_cost : 0.5804, val_acc : 86.96%\n",
      "epoch :  601, tr_cost : 0.5996, tr_acc : 86.37%, val_cost : 0.5650, val_acc : 87.19%\n",
      "epoch :  651, tr_cost : 0.5838, tr_acc : 86.66%, val_cost : 0.5514, val_acc : 87.46%\n",
      "epoch :  701, tr_cost : 0.5697, tr_acc : 86.93%, val_cost : 0.5393, val_acc : 87.70%\n",
      "epoch :  751, tr_cost : 0.5570, tr_acc : 87.17%, val_cost : 0.5285, val_acc : 87.92%\n",
      "epoch :  801, tr_cost : 0.5455, tr_acc : 87.40%, val_cost : 0.5188, val_acc : 88.19%\n",
      "epoch :  851, tr_cost : 0.5350, tr_acc : 87.60%, val_cost : 0.5099, val_acc : 88.45%\n",
      "epoch :  901, tr_cost : 0.5253, tr_acc : 87.76%, val_cost : 0.5018, val_acc : 88.57%\n",
      "epoch :  951, tr_cost : 0.5164, tr_acc : 87.98%, val_cost : 0.4944, val_acc : 88.66%\n",
      "Learning finished\n",
      "Accuracy:  0.8876\n",
      "Label:  [2]\n",
      "Prediction:  [4]\n"
     ]
    },
    {
     "data": {
      "image/png": "[encoded data removed]",
      "text/plain": [
       "<matplotlib.figure.Figure at 0x17fb2160da0>"
      ]
     },
     "metadata": {},
     "output_type": "display_data"
    }
   ],
   "source": [
    "# parameters\n",
    "epochs = 1000\n",
    "batch_size = 100\n",
    "\n",
    "# launch graph\n",
    "with tf.Session() as sess:\n",
    "    sess.run(tf.global_variables_initializer())\n",
    "    \n",
    "    for epoch in range(epochs):\n",
    "        avg_cost = 0\n",
    "        val_cost = 0\n",
    "        total_batch = int(mnist.train.num_examples / batch_size)\n",
    "        \n",
    "        for step in range(total_batch):\n",
    "            batch_xs, batch_ys = mnist.train.next_batch(batch_size)\n",
    "            tr_cost, _ = sess.run([cost, opt], feed_dict = {X : batch_xs, Y : batch_ys})\n",
    "            avg_cost += tr_cost / total_batch\n",
    "        if epoch % 50 == 0 or epoch == epochs:\n",
    "            tr_acc = sess.run(acc, feed_dict = {X : mnist.train.images, Y : mnist.train.labels})\n",
    "            val_cost, val_acc = sess.run([cost, acc], feed_dict = {X : mnist.test.images, Y : mnist.test.labels})\n",
    "            print('epoch : {:4}, tr_cost : {:.4f}, tr_acc : {:.2%}, val_cost : {:.4f}, val_acc : {:.2%}'.format(epoch + 1,\n",
    "                                                                                                                avg_cost, tr_acc,\n",
    "                                                                                                                val_cost, val_acc))\n",
    "    \n",
    "    print(\"Learning finished\")\n",
    "    \n",
    "    # Test the model using test sets\n",
    "    print(\"Accuracy: \", acc.eval(session=sess, feed_dict={\n",
    "          X: mnist.test.images, Y: mnist.test.labels}))\n",
    "\n",
    "    # Get one and predict\n",
    "    r = random.randint(0, mnist.test.num_examples - 1)\n",
    "    print(\"Label: \", sess.run(tf.argmax(mnist.test.labels[r:r + 1], 1)))\n",
    "    print(\"Prediction: \", sess.run(tf.argmax(score, 1), feed_dict={X: mnist.test.images[r:r + 1]}))\n",
    "\n",
    "    plt.imshow(\n",
    "         mnist.test.images[r:r + 1].reshape(28, 28),\n",
    "         cmap='Greys',\n",
    "         interpolation='nearest')\n",
    "    plt.show()"
   ]
  }
 ],
 "metadata": {
  "kernelspec": {
   "display_name": "Python 3",
   "language": "python",
   "name": "python3"
  },
  "language_info": {
   "codemirror_mode": {
    "name": "ipython",
    "version": 3
   },
   "file_extension": ".py",
   "mimetype": "text/x-python",
   "name": "python",
   "nbconvert_exporter": "python",
   "pygments_lexer": "ipython3",
   "version": "3.5.2"
  }
 },
 "nbformat": 4,
 "nbformat_minor": 2
}
