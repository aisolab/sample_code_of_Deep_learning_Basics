{
 "cells": [
  {
   "cell_type": "markdown",
   "metadata": {},
   "source": [
    "### 모두를 위한 머신러닝/딥러닝 강의\n",
    "김성훈 교수님의 모두를 위한 머신러닝/딥러닝 강의 중 lab 강의 코드입니다.\n",
    "## Lab11_5 CNN MNIST (Ensemble : bagging)\n",
    "Lab11_4의 CNN_for_MNIST Class를 활용합니다."
   ]
  },
  {
   "cell_type": "markdown",
   "metadata": {},
   "source": [
    "### CNN_for_MNIST Class"
   ]
  },
  {
   "cell_type": "code",
   "execution_count": 1,
   "metadata": {
    "collapsed": true
   },
   "outputs": [],
   "source": [
    "import os, sys \n",
    "import tensorflow as tf\n",
    "import numpy as np\n",
    "import matplotlib.pylab as plt\n",
    "from tensorflow.examples.tutorials.mnist import input_data\n",
    "%matplotlib inline"
   ]
  },
  {
   "cell_type": "code",
   "execution_count": 2,
   "metadata": {
    "collapsed": true
   },
   "outputs": [],
   "source": [
    "class CNN_for_MNIST:\n",
    "    \n",
    "    def __init__(self, sess, name):\n",
    "        self.sess = sess\n",
    "        self.name = name\n",
    "        self.build_net()\n",
    "        \n",
    "    def build_net(self):\n",
    "        \n",
    "        with tf.variable_scope(self.name):\n",
    "            \n",
    "            with tf.variable_scope('CNN_weights'):\n",
    "                                \n",
    "                weights = {'wc1' : tf.get_variable(name = 'wc1', shape = [3, 3, 1, 32],\n",
    "                                                   initializer =  tf.contrib.layers.xavier_initializer()),\n",
    "                    'wc2' : tf.get_variable(name = 'wc2', shape = [3, 3, 32, 64],\n",
    "                                            initializer = tf.contrib.layers.xavier_initializer()),\n",
    "                    'wc3' : tf.get_variable(name = 'wc3', shape = [3, 3, 64, 128],\n",
    "                                            initializer = tf.contrib.layers.xavier_initializer()),\n",
    "                    'wd' :  tf.get_variable(name = 'wd', shape = [4 * 4 * 128, 10],\n",
    "                                            initializer = tf.contrib.layers.xavier_initializer())}\n",
    "            \n",
    "            with tf.variable_scope('CNN_bias'):\n",
    "                \n",
    "                biases = {'bc1' : tf.get_variable(name = 'bc1', shape = [32],\n",
    "                                                  initializer = tf.random_normal_initializer(mean = 0.0, stddev = 0.1)),\n",
    "                          'bc2' : tf.get_variable(name = 'bc2', shape = [64],\n",
    "                                                  initializer = tf.random_normal_initializer(mean = 0.0, stddev = 0.1)),\n",
    "                          'bc3' : tf.get_variable(name = 'bc3', shape = [128],\n",
    "                                                  initializer = tf.random_normal_initializer(mean = 0.0, stddev = 0.1)),\n",
    "                          'bd' : tf.get_variable(name = 'bd', shape = [10],\n",
    "                                                 initializer = tf.random_normal_initializer(mean = 0.0, stddev = 0.1))}\n",
    "                           \n",
    "            # input placeholder\n",
    "            self.X = tf.placeholder(dtype = tf.float32, shape = [None, 784])\n",
    "            Ximg = tf.reshape(tensor = self.X, shape = [-1, 28, 28, 1])\n",
    "            self.Y = tf.placeholder(dtype = tf.float32, shape = [None, 10])\n",
    "            self.learning_rate = tf.placeholder(dtype = tf.float32)\n",
    "            \n",
    "            with tf.variable_scope('conv1_layer'): # (28, 28, 1) -> (28, 28, 32)\n",
    "                conv1 = tf.nn.conv2d(input = Ximg, filter = weights['wc1'], strides = [1,1,1,1], padding = 'SAME')\n",
    "                relu1 = tf.nn.relu(conv1 + biases['bc1'])\n",
    "                print(relu1)\n",
    "                \n",
    "            with tf.variable_scope('pool1_layer'): # (28, 28, 32) -> (14, 14, 32)\n",
    "                pool1 = tf.nn.max_pool(value = relu1, ksize = [1, 2, 2, 1], strides = [1, 2, 2, 1], padding = 'SAME')\n",
    "                print(pool1)\n",
    "                \n",
    "            with tf.variable_scope('conv2_layer'): # (14, 14, 32) -> (14, 14, 64)\n",
    "                conv2 = tf.nn.conv2d(input = pool1, filter = weights['wc2'], strides = [1, 1, 1, 1], padding = 'SAME')\n",
    "                relu2 = tf.nn.relu(conv2 + biases['bc2']) \n",
    "                print(relu2)\n",
    "            \n",
    "            with tf.variable_scope('pool2_layer'): # (14, 14, 64) -> (7, 7, 64)\n",
    "                pool2 = tf.nn.max_pool(value = relu2, ksize = [1, 2, 2, 1], strides = [1, 2, 2, 1], padding = 'SAME')\n",
    "                print(pool2)\n",
    "            \n",
    "            with tf.variable_scope('conv3_layer'): # (7, 7, 64) -> (7, 7, 128)\n",
    "                conv3 = tf.nn.conv2d(input = pool2, filter = weights['wc3'], strides = [1, 1, 1, 1], padding = 'SAME')\n",
    "                relu3 = tf.nn.relu(conv3 + biases['bc3'])\n",
    "                print(relu3)\n",
    "                \n",
    "            with tf.variable_scope('pool3_layer'): # (7, 7, 128) -> (4, 4, 128)\n",
    "                pool3 = tf.nn.max_pool(value = relu3, ksize = [1, 2, 2, 1], strides = [1, 2, 2, 1], padding = 'SAME')\n",
    "                print(pool3)\n",
    "                \n",
    "            with tf.variable_scope('dense_layer'):\n",
    "                dense_vector = tf.reshape(tensor = pool3, shape = [-1, 4 * 4 * 128])\n",
    "                self.score = tf.matmul(dense_vector, weights['wd']) + biases['bd']\n",
    "                print(self.score)\n",
    "            \n",
    "            # define loss & optimizer\n",
    "            with tf.variable_scope('loss'):\n",
    "                self.loss = tf.reduce_mean(tf.nn.softmax_cross_entropy_with_logits(logits = self.score, labels = self.Y))\n",
    "            \n",
    "            with tf.variable_scope('train'):\n",
    "                self.opt = tf.train.AdamOptimizer(learning_rate = self.learning_rate).minimize(self.loss)\n",
    "            \n",
    "            with tf.variable_scope('accuracy'):\n",
    "                is_correct = tf.equal(tf.argmax(self.score ,axis = 1), tf.argmax(self.Y, axis = 1))\n",
    "                self.accuracy = tf.reduce_mean(tf.cast(is_correct, dtype = tf.float32))\n",
    "\n",
    "    def train(self, x_data, y_data, learning_rate):\n",
    "        return self.sess.run([self.loss, self.opt], feed_dict = {self.X : x_data, self.Y : y_data, self.learning_rate : learning_rate})\n",
    "\n",
    "    def cal_loss(self, x_data, y_data):\n",
    "        return self.sess.run(self.loss, feed_dict = {self.X : x_data, self.Y : y_data})\n",
    "    \n",
    "    def predict(self, x_test):\n",
    "        return self.sess.run(self.score, feed_dict = {self.X : x_test})\n",
    "    \n",
    "    def get_accuracy(self, x_test, y_test):\n",
    "        return self.sess.run(self.accuracy, feed_dict = {self.X : x_test, self.Y : y_test})"
   ]
  },
  {
   "cell_type": "markdown",
   "metadata": {},
   "source": [
    "### Ensemble (bagging): Majority voting"
   ]
  },
  {
   "cell_type": "markdown",
   "metadata": {},
   "source": [
    "#### Load mnist"
   ]
  },
  {
   "cell_type": "code",
   "execution_count": 3,
   "metadata": {
    "collapsed": false
   },
   "outputs": [
    {
     "data": {
      "text/plain": [
       "['.ipynb_checkpoints',\n",
       " 'Data structures and algorithms_warm_up.ipynb',\n",
       " 'Data structures and algorithms_week_1.ipynb',\n",
       " 'DLEL',\n",
       " 'DLEL.zip',\n",
       " 'DLEL_10_1_accuracy_loss.PNG',\n",
       " 'DLEL_10_1_activation_histogram.PNG',\n",
       " 'DLEL_10_1_example_graph.PNG',\n",
       " 'DLEL_10_1_Weight_initialization.ipynb',\n",
       " 'DLEL_10_2_Drop_out.ipynb',\n",
       " 'DLEL_11_2_CNN_MNIST.ipynb',\n",
       " 'DLEL_11_3_CNN_MNIST_(Deep).ipynb',\n",
       " 'DLEL_11_3_cnn_mnist_deep_graph.PNG',\n",
       " 'DLEL_11_4_CNN_MNIST_(OOP).ipynb',\n",
       " 'DLEL_11_5_CNN_MNIST_(Bagging_of_Ensemble).ipynb',\n",
       " 'hmm_viterbi_mini_example.pdf',\n",
       " 'JurafskyMartinHmmDecode.xlsx',\n",
       " 'logs',\n",
       " 'MNIST_data',\n",
       " 'py-automate',\n",
       " 'sample.in',\n",
       " 'toy.in',\n",
       " 'Untitled.ipynb',\n",
       " 'untitled.txt',\n",
       " 'Untitled1.ipynb']"
      ]
     },
     "execution_count": 3,
     "metadata": {},
     "output_type": "execute_result"
    }
   ],
   "source": [
    "os.listdir()"
   ]
  },
  {
   "cell_type": "code",
   "execution_count": 4,
   "metadata": {
    "collapsed": false
   },
   "outputs": [
    {
     "name": "stdout",
     "output_type": "stream",
     "text": [
      "Extracting ./MNIST_data\\train-images-idx3-ubyte.gz\n",
      "Extracting ./MNIST_data\\train-labels-idx1-ubyte.gz\n",
      "Extracting ./MNIST_data\\t10k-images-idx3-ubyte.gz\n",
      "Extracting ./MNIST_data\\t10k-labels-idx1-ubyte.gz\n"
     ]
    }
   ],
   "source": [
    "mnist = input_data.read_data_sets(train_dir = './MNIST_data', one_hot = True)"
   ]
  },
  {
   "cell_type": "markdown",
   "metadata": {},
   "source": [
    "#### Generate multiple CNN classifier "
   ]
  },
  {
   "cell_type": "code",
   "execution_count": 5,
   "metadata": {
    "collapsed": false
   },
   "outputs": [
    {
     "name": "stdout",
     "output_type": "stream",
     "text": [
      "Tensor(\"model1/conv1_layer/Relu:0\", shape=(?, 28, 28, 32), dtype=float32)\n",
      "Tensor(\"model1/pool1_layer/MaxPool:0\", shape=(?, 14, 14, 32), dtype=float32)\n",
      "Tensor(\"model1/conv2_layer/Relu:0\", shape=(?, 14, 14, 64), dtype=float32)\n",
      "Tensor(\"model1/pool2_layer/MaxPool:0\", shape=(?, 7, 7, 64), dtype=float32)\n",
      "Tensor(\"model1/conv3_layer/Relu:0\", shape=(?, 7, 7, 128), dtype=float32)\n",
      "Tensor(\"model1/pool3_layer/MaxPool:0\", shape=(?, 4, 4, 128), dtype=float32)\n",
      "Tensor(\"model1/dense_layer/add:0\", shape=(?, 10), dtype=float32)\n",
      "model 1 created\n",
      "Tensor(\"model2/conv1_layer/Relu:0\", shape=(?, 28, 28, 32), dtype=float32)\n",
      "Tensor(\"model2/pool1_layer/MaxPool:0\", shape=(?, 14, 14, 32), dtype=float32)\n",
      "Tensor(\"model2/conv2_layer/Relu:0\", shape=(?, 14, 14, 64), dtype=float32)\n",
      "Tensor(\"model2/pool2_layer/MaxPool:0\", shape=(?, 7, 7, 64), dtype=float32)\n",
      "Tensor(\"model2/conv3_layer/Relu:0\", shape=(?, 7, 7, 128), dtype=float32)\n",
      "Tensor(\"model2/pool3_layer/MaxPool:0\", shape=(?, 4, 4, 128), dtype=float32)\n",
      "Tensor(\"model2/dense_layer/add:0\", shape=(?, 10), dtype=float32)\n",
      "model 2 created\n",
      "Tensor(\"model3/conv1_layer/Relu:0\", shape=(?, 28, 28, 32), dtype=float32)\n",
      "Tensor(\"model3/pool1_layer/MaxPool:0\", shape=(?, 14, 14, 32), dtype=float32)\n",
      "Tensor(\"model3/conv2_layer/Relu:0\", shape=(?, 14, 14, 64), dtype=float32)\n",
      "Tensor(\"model3/pool2_layer/MaxPool:0\", shape=(?, 7, 7, 64), dtype=float32)\n",
      "Tensor(\"model3/conv3_layer/Relu:0\", shape=(?, 7, 7, 128), dtype=float32)\n",
      "Tensor(\"model3/pool3_layer/MaxPool:0\", shape=(?, 4, 4, 128), dtype=float32)\n",
      "Tensor(\"model3/dense_layer/add:0\", shape=(?, 10), dtype=float32)\n",
      "model 3 created\n",
      "Tensor(\"model4/conv1_layer/Relu:0\", shape=(?, 28, 28, 32), dtype=float32)\n",
      "Tensor(\"model4/pool1_layer/MaxPool:0\", shape=(?, 14, 14, 32), dtype=float32)\n",
      "Tensor(\"model4/conv2_layer/Relu:0\", shape=(?, 14, 14, 64), dtype=float32)\n",
      "Tensor(\"model4/pool2_layer/MaxPool:0\", shape=(?, 7, 7, 64), dtype=float32)\n",
      "Tensor(\"model4/conv3_layer/Relu:0\", shape=(?, 7, 7, 128), dtype=float32)\n",
      "Tensor(\"model4/pool3_layer/MaxPool:0\", shape=(?, 4, 4, 128), dtype=float32)\n",
      "Tensor(\"model4/dense_layer/add:0\", shape=(?, 10), dtype=float32)\n",
      "model 4 created\n",
      "Tensor(\"model5/conv1_layer/Relu:0\", shape=(?, 28, 28, 32), dtype=float32)\n",
      "Tensor(\"model5/pool1_layer/MaxPool:0\", shape=(?, 14, 14, 32), dtype=float32)\n",
      "Tensor(\"model5/conv2_layer/Relu:0\", shape=(?, 14, 14, 64), dtype=float32)\n",
      "Tensor(\"model5/pool2_layer/MaxPool:0\", shape=(?, 7, 7, 64), dtype=float32)\n",
      "Tensor(\"model5/conv3_layer/Relu:0\", shape=(?, 7, 7, 128), dtype=float32)\n",
      "Tensor(\"model5/pool3_layer/MaxPool:0\", shape=(?, 4, 4, 128), dtype=float32)\n",
      "Tensor(\"model5/dense_layer/add:0\", shape=(?, 10), dtype=float32)\n",
      "model 5 created\n"
     ]
    }
   ],
   "source": [
    "# initialize\n",
    "sess = tf.Session()\n",
    "models = []\n",
    "num_models = 5\n",
    "\n",
    "for m in range(num_models):\n",
    "    models.append(CNN_for_MNIST(sess = sess, name = 'model' + str(m+1)))\n",
    "    print('model {} created'.format(m+1))"
   ]
  },
  {
   "cell_type": "markdown",
   "metadata": {},
   "source": [
    "#### Training "
   ]
  },
  {
   "cell_type": "code",
   "execution_count": 6,
   "metadata": {
    "collapsed": false
   },
   "outputs": [
    {
     "name": "stdout",
     "output_type": "stream",
     "text": [
      "epoch :   0, tr_loss : [ 0.24618735  0.26279068  0.25561891  0.25435711  0.27532145],\n",
      " val_loss : [ 0.23145196  0.24954711  0.24124356  0.23868072  0.25714996]\n",
      "epoch :   1, tr_loss : [ 0.05417275  0.05497274  0.05556187  0.05512752  0.05858481],\n",
      " val_loss : [ 0.05711392  0.05573794  0.05591846  0.05427806  0.05743069]\n",
      "epoch :   2, tr_loss : [ 0.03887401  0.04059358  0.03965596  0.03950122  0.0414967 ],\n",
      " val_loss : [ 0.04638098  0.04599482  0.04580052  0.04437797  0.04639624]\n",
      "epoch :   3, tr_loss : [ 0.02948736  0.02990302  0.03101698  0.02973427  0.03167066],\n",
      " val_loss : [ 0.03992531  0.03864281  0.04038063  0.03996941  0.04207899]\n",
      "epoch :   4, tr_loss : [ 0.02300021  0.02363642  0.02366415  0.02368852  0.02462739],\n",
      " val_loss : [ 0.03618005  0.03608045  0.03744667  0.03775766  0.04012572]\n",
      "epoch :   5, tr_loss : [ 0.01914023  0.01987019  0.02034017  0.01954836  0.02115642],\n",
      " val_loss : [ 0.03748661  0.03565716  0.03759351  0.03666068  0.03982842]\n",
      "epoch :   6, tr_loss : [ 0.01672373  0.01633423  0.01697415  0.01704515  0.01751501],\n",
      " val_loss : [ 0.03650194  0.03370114  0.0360652   0.03658058  0.03759442]\n",
      "epoch :   7, tr_loss : [ 0.01308333  0.01361722  0.0122272   0.01392425  0.01465125],\n",
      " val_loss : [ 0.03667513  0.03549126  0.03602464  0.03841103  0.03953504]\n",
      "epoch :   8, tr_loss : [ 0.01140065  0.01092501  0.01165563  0.01094669  0.01260157],\n",
      " val_loss : [ 0.03687035  0.03563912  0.03851219  0.03952854  0.04052102]\n",
      "epoch :   9, tr_loss : [ 0.01116409  0.01138902  0.01114012  0.01236672  0.0110064 ],\n",
      " val_loss : [ 0.03615084  0.03607673  0.03719493  0.03890943  0.0414244 ]\n",
      "epoch :  10, tr_loss : [ 0.00807204  0.00875035  0.00987363  0.00811666  0.01019883],\n",
      " val_loss : [ 0.03448467  0.03489682  0.03519427  0.03808497  0.04245165]\n",
      "epoch :  11, tr_loss : [ 0.00772629  0.00763699  0.00858449  0.00846317  0.00788743],\n",
      " val_loss : [ 0.03784808  0.03856734  0.03631344  0.04161782  0.04040216]\n",
      "epoch :  12, tr_loss : [ 0.00766952  0.00764098  0.00591805  0.00673226  0.00785405],\n",
      " val_loss : [ 0.03841756  0.03964803  0.03644366  0.04326088  0.04147365]\n",
      "epoch :  13, tr_loss : [ 0.00700972  0.00710479  0.00782889  0.00655905  0.00637717],\n",
      " val_loss : [ 0.04224353  0.04320176  0.04249526  0.04380927  0.04400169]\n",
      "epoch :  14, tr_loss : [ 0.00504691  0.005932    0.0063835   0.00609894  0.00572021],\n",
      " val_loss : [ 0.03951082  0.04155487  0.03913689  0.04625038  0.04574702]\n"
     ]
    }
   ],
   "source": [
    "# hyper parameters (for simplicity, each model has same parameter)\n",
    "learning_rate = 0.001\n",
    "training_epochs = 15\n",
    "batch_size = 100\n",
    "model_tr_loss_history = []\n",
    "model_val_loss_history = []\n",
    "sess.run(tf.global_variables_initializer())\n",
    "\n",
    "# train my model\n",
    "for epoch in range(training_epochs):\n",
    "    tr_avg_loss_list = np.zeros(len(models))\n",
    "    val_avg_loss_list = np.zeros(len(models))\n",
    "    \n",
    "    total_batch = int(mnist.train.num_examples / batch_size)\n",
    "    \n",
    "    for step in range(total_batch):\n",
    "        batch_xs, batch_ys = mnist.train.next_batch(batch_size)\n",
    "        \n",
    "        for m_idx, m in enumerate(models):\n",
    "            tr_loss, _ = m.train(batch_xs, batch_ys, learning_rate)\n",
    "            val_loss = m.cal_loss(mnist.validation.images, mnist.validation.labels)\n",
    "            tr_avg_loss_list[m_idx] += tr_loss / total_batch\n",
    "            val_avg_loss_list[m_idx] += val_loss / total_batch\n",
    "    \n",
    "    model_tr_loss_history.append(tr_avg_loss_list)\n",
    "    model_val_loss_history.append(val_avg_loss_list)\n",
    "        \n",
    "    print('epoch : {:3}, tr_loss : {},\\n val_loss : {}'.format(epoch, tr_avg_loss_list, val_avg_loss_list))"
   ]
  },
  {
   "cell_type": "markdown",
   "metadata": {},
   "source": [
    "#### Loss history"
   ]
  },
  {
   "cell_type": "code",
   "execution_count": 7,
   "metadata": {
    "collapsed": false
   },
   "outputs": [],
   "source": [
    "model_tr_loss_history = np.asarray(model_tr_loss_history)\n",
    "model_val_loss_history = np.asarray(model_val_loss_history)"
   ]
  },
  {
   "cell_type": "code",
   "execution_count": 8,
   "metadata": {
    "collapsed": false
   },
   "outputs": [
    {
     "data": {
      "image/png": "[encoded data removed]",
      "text/plain": [
       "<matplotlib.figure.Figure at 0x23146aa6978>"
      ]
     },
     "metadata": {},
     "output_type": "display_data"
    }
   ],
   "source": [
    "fig = plt.figure()\n",
    "for m in range(num_models):\n",
    "    loss_history = fig.add_subplot(1,5,m+1)\n",
    "    loss_history.plot(model_tr_loss_history[:,m], label = 'tr_loss')\n",
    "    loss_history.plot(model_val_loss_history[:,m], label = 'val_loss')\n",
    "    loss_history.title.set_text('model' + str(m))"
   ]
  },
  {
   "cell_type": "markdown",
   "metadata": {},
   "source": [
    "#### prediction "
   ]
  },
  {
   "cell_type": "code",
   "execution_count": 9,
   "metadata": {
    "collapsed": false
   },
   "outputs": [
    {
     "name": "stdout",
     "output_type": "stream",
     "text": [
      "model0 accuracy : 99.1500%\n",
      "model1 accuracy : 99.1300%\n",
      "model2 accuracy : 99.1500%\n",
      "model3 accuracy : 99.1300%\n",
      "model4 accuracy : 99.1600%\n"
     ]
    }
   ],
   "source": [
    "# test set accuracy\n",
    "# accuracy of each model \n",
    "for m_idx,m in enumerate(models):\n",
    "    print('model{} accuracy : {:.4%}'.format(m_idx, m.get_accuracy(mnist.test.images, mnist.test.labels)))"
   ]
  },
  {
   "cell_type": "code",
   "execution_count": 10,
   "metadata": {
    "collapsed": false
   },
   "outputs": [
    {
     "name": "stdout",
     "output_type": "stream",
     "text": [
      "0.9934\n"
     ]
    }
   ],
   "source": [
    "# majority voting (bagging)\n",
    "from collections import Counter\n",
    "\n",
    "predict_result = []\n",
    "for m in models:\n",
    "    predict_result.append(np.argmax(m.predict(mnist.test.images), axis = 1))\n",
    "predict_result = np.asarray(predict_result)\n",
    "\n",
    "def majority_voting(result_1d):\n",
    "    return Counter(result_1d).most_common(1)[0][0]\n",
    "\n",
    "ensemble_prediction = np.apply_along_axis(majority_voting, axis = 0, arr = predict_result)\n",
    "ensemble_accuracy = np.mean(np.equal(ensemble_prediction, np.argmax(mnist.test.labels, axis = 1)))\n",
    "print(ensemble_accuracy)"
   ]
  }
 ],
 "metadata": {
  "kernelspec": {
   "display_name": "Python 3",
   "language": "python",
   "name": "python3"
  },
  "language_info": {
   "codemirror_mode": {
    "name": "ipython",
    "version": 3
   },
   "file_extension": ".py",
   "mimetype": "text/x-python",
   "name": "python",
   "nbconvert_exporter": "python",
   "pygments_lexer": "ipython3",
   "version": "3.5.2"
  }
 },
 "nbformat": 4,
 "nbformat_minor": 2
}
