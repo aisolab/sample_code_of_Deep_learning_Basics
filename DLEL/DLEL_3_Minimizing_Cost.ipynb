{
 "cells": [
  {
   "cell_type": "markdown",
   "metadata": {},
   "source": [
    "## 모두를 위한 머신러닝/딥러닝 강의\n",
    "김성훈 교수님의 모두를 위한 머신러닝/딥러닝 강의 중 lab 강의 코드입니다.\n",
    "## Lab3 Minimizing Cost"
   ]
  },
  {
   "cell_type": "markdown",
   "metadata": {},
   "source": [
    "### Visualize cost function (below)\n",
    "$$cost = \\frac{1}{m} \\sum\\limits_{i=1}^{m}(wx_i - y_i)^2 $$ "
   ]
  },
  {
   "cell_type": "code",
   "execution_count": 1,
   "metadata": {
    "collapsed": false
   },
   "outputs": [
    {
     "data": {
      "image/png": "[encoded data removed]",
      "text/plain": [
       "<matplotlib.figure.Figure at 0x1f8f7637710>"
      ]
     },
     "metadata": {},
     "output_type": "display_data"
    }
   ],
   "source": [
    "import tensorflow as tf\n",
    "import matplotlib.pylab as plt\n",
    "tf.set_random_seed(777)  # for reproducibility\n",
    "\n",
    "X = [1, 2, 3]\n",
    "Y = [1, 2, 3]\n",
    "\n",
    "W = tf.placeholder(tf.float32)\n",
    "\n",
    "# Our hypothesis for linear model X * W\n",
    "hypothesis = X * W\n",
    "\n",
    "# cost/loss function\n",
    "cost = tf.reduce_mean(tf.square(hypothesis - Y))\n",
    "\n",
    "# Launch the graph in a session\n",
    "sess = tf.Session()\n",
    "\n",
    "# Initializes global variables in the graph\n",
    "sess.run(tf.global_variables_initializer())\n",
    "\n",
    "# Variable for plotting cost function\n",
    "W_history = []\n",
    "cost_history = []\n",
    "\n",
    "for i in range(-30, 50):\n",
    "    curr_W = i * 0.1\n",
    "    curr_cost = sess.run(cost, feed_dict = {W : curr_W})\n",
    "    W_history.append(curr_W)\n",
    "    cost_history.append(curr_cost)\n",
    "\n",
    "# Show the cost function\n",
    "plt.plot(W_history, cost_history)\n",
    "plt.show()"
   ]
  },
  {
   "cell_type": "markdown",
   "metadata": {},
   "source": [
    "### Gradient descent (without Optimizer)\n",
    "$$ \\frac{\\partial cost}{\\partial W} = \\frac{2}{m} \\sum\\limits_{i=1}^{m} (wx_i - y_i)x_i$$  \n",
    "$$ W \\leftarrow W - \\alpha \\frac{2}{m} \\sum\\limits_{i=1}^{m} (wx_i - y_i)x_i$$"
   ]
  },
  {
   "cell_type": "code",
   "execution_count": 2,
   "metadata": {
    "collapsed": false
   },
   "outputs": [
    {
     "name": "stdout",
     "output_type": "stream",
     "text": [
      "0 3.06542e-06 [ 1.0008105]\n",
      "1 1.36218e-08 [ 1.000054]\n",
      "2 5.96856e-11 [ 1.00000358]\n",
      "3 2.65269e-13 [ 1.00000024]\n",
      "4 0.0 [ 1.]\n",
      "5 0.0 [ 1.]\n",
      "6 0.0 [ 1.]\n",
      "7 0.0 [ 1.]\n",
      "8 0.0 [ 1.]\n",
      "9 0.0 [ 1.]\n",
      "10 0.0 [ 1.]\n",
      "11 0.0 [ 1.]\n",
      "12 0.0 [ 1.]\n",
      "13 0.0 [ 1.]\n",
      "14 0.0 [ 1.]\n",
      "15 0.0 [ 1.]\n",
      "16 0.0 [ 1.]\n",
      "17 0.0 [ 1.]\n",
      "18 0.0 [ 1.]\n",
      "19 0.0 [ 1.]\n",
      "20 0.0 [ 1.]\n"
     ]
    }
   ],
   "source": [
    "tf.set_random_seed(777) # for reproducibility\n",
    "x_data = [1, 2, 3]\n",
    "y_data = [1, 2, 3]\n",
    "\n",
    "# Try to find values for W and b to compute y_data = W * x_data + b\n",
    "# We know that W should be 1 and b should be 0\n",
    "# But let's use TensorFlow to figure it out\n",
    "W = tf.Variable(tf.random_normal([1]), name = 'weight')\n",
    "\n",
    "X = tf.placeholder(tf.float32)\n",
    "Y = tf.placeholder(tf.float32)\n",
    "\n",
    "# Our hypothesis for linear model X * W\n",
    "hypothesis = X * W\n",
    "\n",
    "# cost/loss function\n",
    "cost = tf.reduce_mean(tf.square(hypothesis - Y))\n",
    "\n",
    "# Minimize : Gradient descent using derivative : W -= learning_rate * gradient\n",
    "learning_rate = 0.1\n",
    "gradient = tf.reduce_mean((W * X - Y) * X) * 2\n",
    "descent = W - learning_rate * gradient\n",
    "update = W.assign(descent) # tensorflow에서는 variable에 =로 할당이안되고, method 활용\n",
    "\n",
    "# Launch the graph in a session\n",
    "sess= tf.Session()\n",
    "\n",
    "# Initializes global variables in the graph\n",
    "sess.run(tf.global_variables_initializer())\n",
    "for iter in range(21):\n",
    "    sess.run(update, feed_dict= {X : x_data, Y : y_data})\n",
    "    print(iter, sess.run(cost, feed_dict={X : x_data, Y : y_data}), sess.run(W))"
   ]
  },
  {
   "cell_type": "markdown",
   "metadata": {},
   "source": [
    "### Gradient descent (with Optimizer) "
   ]
  },
  {
   "cell_type": "code",
   "execution_count": 3,
   "metadata": {
    "collapsed": false
   },
   "outputs": [
    {
     "name": "stdout",
     "output_type": "stream",
     "text": [
      "0 74.6667 5.0\n",
      "1 0.331852 1.26667\n",
      "2 0.0014749 1.01778\n",
      "3 6.55503e-06 1.00119\n",
      "4 2.91322e-08 1.00008\n",
      "5 1.2839e-10 1.00001\n",
      "6 5.16328e-13 1.0\n",
      "7 0.0 1.0\n",
      "8 0.0 1.0\n",
      "9 0.0 1.0\n",
      "10 0.0 1.0\n",
      "11 0.0 1.0\n",
      "12 0.0 1.0\n",
      "13 0.0 1.0\n",
      "14 0.0 1.0\n",
      "15 0.0 1.0\n",
      "16 0.0 1.0\n",
      "17 0.0 1.0\n",
      "18 0.0 1.0\n",
      "19 0.0 1.0\n",
      "20 0.0 1.0\n"
     ]
    }
   ],
   "source": [
    "tf.set_random_seed(777) # for reproducibility\n",
    "\n",
    "# tf Graph Input\n",
    "x_data = [1, 2, 3]\n",
    "y_data = [1, 2, 3]\n",
    "\n",
    "# Set wrong model weights\n",
    "W = tf.Variable(5.0, name = 'weight')\n",
    "\n",
    "X = tf.placeholder(tf.float32)\n",
    "Y = tf.placeholder(tf.float32)\n",
    "\n",
    "# Our hypothesis for linear model X * W\n",
    "hypothesis = X * W\n",
    "\n",
    "# cost/loss function\n",
    "cost = tf.reduce_mean(tf.square(hypothesis - Y))\n",
    "\n",
    "# Minimize : Gradient descent with Optimizer\n",
    "opt = tf.train.GradientDescentOptimizer(learning_rate = 0.1)\n",
    "train = opt.minimize(cost)\n",
    "\n",
    "# Launch the graph in a session\n",
    "sess = tf.Session()\n",
    "\n",
    "# Initializes global variables in the graph\n",
    "sess.run(tf.global_variables_initializer())\n",
    "\n",
    "for iter in range(21):\n",
    "    print(iter, sess.run(cost, feed_dict={X : x_data, Y : y_data}), sess.run(W))\n",
    "    sess.run(train, feed_dict= {X : x_data, Y : y_data})"
   ]
  },
  {
   "cell_type": "markdown",
   "metadata": {},
   "source": [
    "### Gradient descent (With Optimizer, + Option)\n",
    "1. opt.compute_gradients : 나의 현재 weight에 해당하는 gradient값 산출\n",
    "2. opt.apply_gradients : gradient descent를 variable들에 적용"
   ]
  },
  {
   "cell_type": "code",
   "execution_count": 4,
   "metadata": {
    "collapsed": false
   },
   "outputs": [
    {
     "name": "stdout",
     "output_type": "stream",
     "text": [
      "0 [37.333332, 5.0, [(37.333332, 5.0)]]\n",
      "1 [2.4888897, 1.2666668, [(2.4888897, 1.2666668)]]\n",
      "2 [0.16592591, 1.0177778, [(0.16592591, 1.0177778)]]\n",
      "3 [0.011061668, 1.0011852, [(0.011061668, 1.0011852)]]\n",
      "4 [0.00073742867, 1.000079, [(0.00073742867, 1.000079)]]\n",
      "5 [4.8955284e-05, 1.0000052, [(4.8955284e-05, 1.0000052)]]\n",
      "6 [3.0994415e-06, 1.0000004, [(3.0994415e-06, 1.0000004)]]\n",
      "7 [0.0, 1.0, [(0.0, 1.0)]]\n",
      "8 [0.0, 1.0, [(0.0, 1.0)]]\n",
      "9 [0.0, 1.0, [(0.0, 1.0)]]\n",
      "10 [0.0, 1.0, [(0.0, 1.0)]]\n",
      "11 [0.0, 1.0, [(0.0, 1.0)]]\n",
      "12 [0.0, 1.0, [(0.0, 1.0)]]\n",
      "13 [0.0, 1.0, [(0.0, 1.0)]]\n",
      "14 [0.0, 1.0, [(0.0, 1.0)]]\n",
      "15 [0.0, 1.0, [(0.0, 1.0)]]\n",
      "16 [0.0, 1.0, [(0.0, 1.0)]]\n",
      "17 [0.0, 1.0, [(0.0, 1.0)]]\n",
      "18 [0.0, 1.0, [(0.0, 1.0)]]\n",
      "19 [0.0, 1.0, [(0.0, 1.0)]]\n",
      "20 [0.0, 1.0, [(0.0, 1.0)]]\n"
     ]
    }
   ],
   "source": [
    "tf.set_random_seed(777) # for reproducibility\n",
    "\n",
    "# tf Graph Input\n",
    "x_data = [1, 2, 3]\n",
    "y_data = [1, 2, 3]\n",
    "\n",
    "# Set wrong model weights\n",
    "W = tf.Variable(5.0, name = 'weight')\n",
    "\n",
    "X = tf.placeholder(tf.float32)\n",
    "Y = tf.placeholder(tf.float32)\n",
    "\n",
    "# Manual gradient\n",
    "gradient = tf.reduce_mean((W * X - Y) * X) * 2\n",
    "\n",
    "# Our hypothesis for linear model X * W\n",
    "hypothesis = X * W\n",
    "\n",
    "# cost/loss function\n",
    "cost = tf.reduce_mean(tf.square(hypothesis - Y))\n",
    "\n",
    "# Minimize : Gradient descent with Optimizer\n",
    "opt = tf.train.GradientDescentOptimizer(learning_rate = 0.1)\n",
    "train = opt.minimize(cost)\n",
    "\n",
    "# Get gradients\n",
    "gvs = opt.compute_gradients(cost, [W])\n",
    "# Optional: modify gradient if necessary\n",
    "# gvs = [(tf.clip_by_value(grad, -1., 1.), var) for grad, var in gvs]\n",
    "\n",
    "# Apply gradients\n",
    "apply_gradients = opt.apply_gradients(gvs)\n",
    "\n",
    "# Launch the graph in a session\n",
    "sess = tf.Session()\n",
    "\n",
    "# Initializes global variables in the graph\n",
    "sess.run(tf.global_variables_initializer())\n",
    "\n",
    "for iter in range(21):\n",
    "    print(iter, sess.run([gradient, W, gvs], feed_dict = {X: x_data, Y : y_data}))\n",
    "    sess.run(apply_gradients, feed_dict = {X : x_data, Y : y_data})"
   ]
  }
 ],
 "metadata": {
  "kernelspec": {
   "display_name": "Python 3",
   "language": "python",
   "name": "python3"
  },
  "language_info": {
   "codemirror_mode": {
    "name": "ipython",
    "version": 3
   },
   "file_extension": ".py",
   "mimetype": "text/x-python",
   "name": "python",
   "nbconvert_exporter": "python",
   "pygments_lexer": "ipython3",
   "version": "3.6.0"
  }
 },
 "nbformat": 4,
 "nbformat_minor": 2
}
