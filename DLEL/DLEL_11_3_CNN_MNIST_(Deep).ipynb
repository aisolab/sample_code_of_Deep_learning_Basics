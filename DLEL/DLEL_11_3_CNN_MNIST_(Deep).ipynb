{
 "cells": [
  {
   "cell_type": "markdown",
   "metadata": {},
   "source": [
    "### 모두를 위한 머신러닝/딥러닝 강의\n",
    "김성훈 교수님의 모두를 위한 머신러닝/딥러닝 강의 중 lab 강의 코드입니다.\n",
    "## Lab11_3 CNN MNIST (Deep)\n",
    "Deep structure : Conv - Pool - Conv - Pool - Conv - Conv - Conv - Global average pool - fully-connected - fully-connected"
   ]
  },
  {
   "cell_type": "code",
   "execution_count": 1,
   "metadata": {
    "collapsed": true
   },
   "outputs": [],
   "source": [
    "import os, sys\n",
    "import tensorflow as tf\n",
    "import numpy as np\n",
    "import random\n",
    "import matplotlib.pylab as plt\n",
    "%matplotlib inline\n",
    "from tensorflow.examples.tutorials.mnist import input_data"
   ]
  },
  {
   "cell_type": "code",
   "execution_count": 2,
   "metadata": {
    "collapsed": false
   },
   "outputs": [
    {
     "data": {
      "text/plain": [
       "['.ipynb_checkpoints',\n",
       " 'Data structures and algorithms_warm_up.ipynb',\n",
       " 'Data structures and algorithms_week_1.ipynb',\n",
       " 'DLEL',\n",
       " 'DLEL.zip',\n",
       " 'DLEL_10_1_accuracy_loss.PNG',\n",
       " 'DLEL_10_1_activation_histogram.PNG',\n",
       " 'DLEL_10_1_example_graph.PNG',\n",
       " 'DLEL_10_1_Weight_initialization.ipynb',\n",
       " 'DLEL_10_2_Drop_out.ipynb',\n",
       " 'DLEL_11_2_CNN_MNIST.ipynb',\n",
       " 'DLEL_11_3_CNN_MNIST_(Deep, only convolution).ipynb',\n",
       " 'logs',\n",
       " 'MNIST_data',\n",
       " 'py-automate',\n",
       " 'untitled.txt']"
      ]
     },
     "execution_count": 2,
     "metadata": {},
     "output_type": "execute_result"
    }
   ],
   "source": [
    "os.listdir()"
   ]
  },
  {
   "cell_type": "code",
   "execution_count": 3,
   "metadata": {
    "collapsed": false
   },
   "outputs": [
    {
     "name": "stdout",
     "output_type": "stream",
     "text": [
      "Extracting ./MNIST_data/train-images-idx3-ubyte.gz\n",
      "Extracting ./MNIST_data/train-labels-idx1-ubyte.gz\n",
      "Extracting ./MNIST_data/t10k-images-idx3-ubyte.gz\n",
      "Extracting ./MNIST_data/t10k-labels-idx1-ubyte.gz\n"
     ]
    }
   ],
   "source": [
    "tf.set_random_seed(777)\n",
    "mnist = input_data.read_data_sets(train_dir = './MNIST_data/', one_hot = True)"
   ]
  },
  {
   "cell_type": "code",
   "execution_count": 4,
   "metadata": {
    "collapsed": false
   },
   "outputs": [
    {
     "name": "stdout",
     "output_type": "stream",
     "text": [
      "Tensor(\"conv1_layer/Relu:0\", shape=(?, 28, 28, 32), dtype=float32)\n",
      "Tensor(\"pool1_layer/MaxPool:0\", shape=(?, 14, 14, 32), dtype=float32)\n",
      "Tensor(\"conv2_layer/Relu:0\", shape=(?, 14, 14, 64), dtype=float32)\n",
      "Tensor(\"pool2_layer/MaxPool:0\", shape=(?, 7, 7, 64), dtype=float32)\n",
      "Tensor(\"conv3_layer/Relu:0\", shape=(?, 7, 7, 128), dtype=float32)\n",
      "Tensor(\"conv4_layer/Relu:0\", shape=(?, 7, 7, 64), dtype=float32)\n",
      "Tensor(\"conv5_layer/Relu:0\", shape=(?, 7, 7, 32), dtype=float32)\n",
      "Tensor(\"conv6_layer/Relu:0\", shape=(?, 7, 7, 10), dtype=float32)\n",
      "Tensor(\"gap/AvgPool:0\", shape=(?, 1, 1, 10), dtype=float32)\n",
      "Tensor(\"fully-connected_layer_1/drop-out/mul:0\", shape=(?, 10), dtype=float32)\n",
      "Tensor(\"fully-connected_layer_2/add:0\", shape=(?, 10), dtype=float32)\n"
     ]
    }
   ],
   "source": [
    "# graph setting\n",
    "X = tf.placeholder(dtype = tf.float32, shape = [None, 784])\n",
    "Ximg = tf.reshape(tensor = X, shape = [-1, 28, 28, 1])\n",
    "Y = tf.placeholder(dtype = tf.float32, shape = [None, 10])\n",
    "# dropout (keep-prob) rate 0.7 on training, but should be 1 for testing\n",
    "keep_prob = tf.placeholder(dtype = tf.float32)\n",
    "\n",
    "# conv1 layer\n",
    "with tf.variable_scope('conv1_layer'):  # (height, width, channel) -> (28,28,1) -> (28, 28, 32)\n",
    "    filter_weight1 = tf.get_variable(name = 'weight1', shape = [3,3,1,32], initializer = tf.contrib.layers.xavier_initializer())\n",
    "    conv1 = tf.nn.conv2d(input = Ximg, filter = filter_weight1, strides = [1,1,1,1], padding = 'SAME')\n",
    "    b1 = tf.Variable(initial_value = tf.random_normal(shape = [32]), name = 'bias1')\n",
    "    relu1 = tf.nn.relu(features = (conv1 + b1))\n",
    "    print(relu1)\n",
    "\n",
    "with tf.variable_scope('pool1_layer'): #(28, 28, 32) -> (14, 14, 32)\n",
    "    pooled1 = tf.nn.max_pool(value = relu1, ksize = [1,2,2,1], strides = [1,2,2,1], padding = 'SAME')\n",
    "    print(pooled1)\n",
    "    \n",
    "with tf.variable_scope('conv2_layer'): # (14, 14, 32) -> (14, 14, 64)\n",
    "    filter_weight2 = tf.get_variable(name = 'weight2', shape = [3, 3, 32, 64], initializer = tf.contrib.layers.xavier_initializer())\n",
    "    conv2 = tf.nn.conv2d(input = pooled1, filter = filter_weight2, strides = [1,1,1,1], padding = 'SAME')\n",
    "    b2 = tf.Variable(initial_value = tf.random_normal(shape = [64]), name = 'bias2')\n",
    "    relu2 = tf.nn.relu(features = (conv2 + b2))\n",
    "    print(relu2)\n",
    "\n",
    "with tf.variable_scope('pool2_layer'): # (14, 14, 64) -> (7, 7, 64)\n",
    "    pooled2 = tf.nn.max_pool(value = relu2, ksize = [1,2,2,1], strides = [1,2,2,1], padding = 'SAME')\n",
    "    print(pooled2)\n",
    "    \n",
    "with tf.variable_scope('conv3_layer'): # (Height, width, channel) : (7, 7, 64) -> (7, 7, 128)\n",
    "    filter_weight3 = tf.get_variable(name = 'weight3', shape = [3, 3, 64, 128], initializer = tf.contrib.layers.xavier_initializer())\n",
    "    conv3 = tf.nn.conv2d(input = pooled2, filter = filter_weight3, strides = [1,1,1,1], padding = 'SAME')\n",
    "    b3 = tf.Variable(initial_value = tf.random_normal(shape = [128]), name = 'bias3')\n",
    "    relu3 = tf.nn.relu(features = (conv3 + b3))\n",
    "    print(relu3)\n",
    "\n",
    "with tf.variable_scope('conv4_layer'): # (Height, width, channel) : (7, 7, 128) -> (7, 7, 64)  \n",
    "    filter_weight4 = tf.get_variable(name = 'weight4', shape = [1, 1, 128, 64], initializer = tf.contrib.layers.xavier_initializer())\n",
    "    conv4 = tf.nn.conv2d(input = relu3, filter = filter_weight4, strides = [1,1,1,1], padding = 'SAME')\n",
    "    b4 = tf.Variable(initial_value = tf.random_normal(shape = [64]), name = 'bias4')\n",
    "    relu4 = tf.nn.relu(features = (conv4 + b4))\n",
    "    print(relu4)\n",
    "    \n",
    "with tf.variable_scope('conv5_layer'): # (Height, width, channel) : (7, 7, 64) -> (7, 7, 32)\n",
    "    filter_weight5 = tf.get_variable(name = 'weight5', shape = [3, 3, 64, 32], initializer = tf.contrib.layers.xavier_initializer())\n",
    "    conv5 = tf.nn.conv2d(input = relu4, filter = filter_weight5, strides = [1,1,1,1], padding = 'SAME')\n",
    "    b5 = tf.Variable(initial_value = tf.random_normal(shape = [32]), name = 'bias5')\n",
    "    relu5 = tf.nn.relu(features = (conv5 + b5))\n",
    "    print(relu5)\n",
    "\n",
    "with tf.variable_scope('conv6_layer'): # (Height, width, channel) : (7, 7, 32) -> (7, 7, 10) \n",
    "    filter_weight6 = tf.get_variable(name = 'weight6', shape = [3,3,32,10], initializer = tf.contrib.layers.xavier_initializer())\n",
    "    conv6 = tf.nn.conv2d(input = relu5, filter = filter_weight6, strides = [1,1,1,1], padding = 'SAME')\n",
    "    b6 = tf.Variable(initial_value = tf.random_normal(shape = [10]), name = 'bias6')\n",
    "    relu6 = tf.nn.relu(features = (conv6 + b6))\n",
    "    print(relu6)\n",
    "\n",
    "with tf.variable_scope('gap'): # (Height, width, channel) : (7,7, 10) -> (1,1, 10)\n",
    "    gap = tf.nn.avg_pool(value = relu6, ksize = [1,7,7,1], strides = [1,7,7,1], padding = 'SAME')\n",
    "    print(gap)\n",
    "\n",
    "# fully_connected layer\n",
    "with tf.variable_scope('fully-connected_layer_1'):\n",
    "\n",
    "    gap_vector = tf.reshape(tensor = gap, shape = [-1, 10])\n",
    "    fully_weight1 = tf.get_variable(name = 'fully_weight1', shape = [10, 10], initializer = tf.contrib.layers.xavier_initializer())\n",
    "    b7 = tf.Variable(initial_value = tf.random_normal(shape = [10]), name = 'bias7')\n",
    "    dense_vector1 = tf.nn.relu(tf.matmul(gap_vector, fully_weight1) + b7)\n",
    "    dense_vector1 = tf.nn.dropout(x = dense_vector1, keep_prob = keep_prob, name = 'drop-out')\n",
    "    print(dense_vector1)    \n",
    "\n",
    "with tf.variable_scope('fully-connected_layer_2'):\n",
    "\n",
    "    fully_weight2 = tf.get_variable(name = 'fully_weight2', shape = [10, 10], initializer = tf.contrib.layers.xavier_initializer())\n",
    "    b8 = tf.Variable(initial_value = tf.random_normal(shape = [10]), name = 'bias8')\n",
    "    score = tf.matmul(dense_vector1, fully_weight2) + b8\n",
    "    print(score)    \n",
    "    \n",
    "with tf.variable_scope('loss'):\n",
    "    loss = tf.reduce_mean(tf.nn.softmax_cross_entropy_with_logits(logits = score, labels = Y))\n",
    "    loss_summ = tf.summary.scalar(name = 'loss', tensor = loss)\n",
    "    \n",
    "with tf.variable_scope('train'):\n",
    "    train = tf.train.AdamOptimizer(learning_rate = 0.001).minimize(loss)\n",
    "    \n",
    "with tf.variable_scope('accuracy'):\n",
    "    is_correct = tf.cast(tf.equal(tf.argmax(score, axis = 1), tf.argmax(Y, axis = 1)), dtype = tf.float32) \n",
    "    accuracy = tf.reduce_mean(is_correct)\n",
    "    accuracy_summ = tf.summary.scalar(name = 'accuracy', tensor = accuracy)"
   ]
  },
  {
   "cell_type": "code",
   "execution_count": 5,
   "metadata": {
    "collapsed": false,
    "scrolled": false
   },
   "outputs": [
    {
     "name": "stdout",
     "output_type": "stream",
     "text": [
      "epoch :    0, tr_loss : 2.440, tr_acc : 62.00%, val_loss : 2.372, val_acc : 57.14%\n",
      "test accuracy : 56.78%\n",
      "epoch :    1, tr_loss : 0.829, tr_acc : 94.00%, val_loss : 0.565, val_acc : 93.24%\n",
      "test accuracy : 93.57%\n",
      "epoch :    2, tr_loss : 0.411, tr_acc : 97.00%, val_loss : 0.188, val_acc : 96.12%\n",
      "test accuracy : 96.34%\n",
      "epoch :    3, tr_loss : 0.311, tr_acc : 95.00%, val_loss : 0.129, val_acc : 97.10%\n",
      "test accuracy : 97.07%\n",
      "epoch :    4, tr_loss : 0.253, tr_acc : 99.00%, val_loss : 0.099, val_acc : 97.06%\n",
      "test accuracy : 97.19%\n",
      "epoch :    5, tr_loss : 0.228, tr_acc : 98.00%, val_loss : 0.090, val_acc : 97.36%\n",
      "test accuracy : 97.27%\n",
      "epoch :    6, tr_loss : 0.212, tr_acc : 98.00%, val_loss : 0.084, val_acc : 98.00%\n",
      "test accuracy : 98.17%\n",
      "epoch :    7, tr_loss : 0.195, tr_acc : 99.00%, val_loss : 0.080, val_acc : 98.04%\n",
      "test accuracy : 98.09%\n",
      "epoch :    8, tr_loss : 0.184, tr_acc : 99.00%, val_loss : 0.077, val_acc : 97.82%\n",
      "test accuracy : 97.69%\n",
      "epoch :    9, tr_loss : 0.174, tr_acc : 99.00%, val_loss : 0.076, val_acc : 98.40%\n",
      "test accuracy : 98.38%\n",
      "epoch :   10, tr_loss : 0.161, tr_acc : 100.00%, val_loss : 0.070, val_acc : 98.60%\n",
      "test accuracy : 98.45%\n",
      "epoch :   11, tr_loss : 0.159, tr_acc : 99.00%, val_loss : 0.072, val_acc : 98.48%\n",
      "test accuracy : 98.44%\n",
      "epoch :   12, tr_loss : 0.150, tr_acc : 99.00%, val_loss : 0.070, val_acc : 98.48%\n",
      "test accuracy : 98.66%\n",
      "epoch :   13, tr_loss : 0.142, tr_acc : 99.00%, val_loss : 0.069, val_acc : 98.60%\n",
      "test accuracy : 98.53%\n",
      "epoch :   14, tr_loss : 0.135, tr_acc : 98.00%, val_loss : 0.066, val_acc : 98.68%\n",
      "test accuracy : 98.51%\n",
      "Label :  [6]\n",
      "Prediction :  [6]\n"
     ]
    },
    {
     "data": {
      "image/png": "[encoded data removed]",
      "text/plain": [
       "<matplotlib.figure.Figure at 0x183c188a208>"
      ]
     },
     "metadata": {},
     "output_type": "display_data"
    }
   ],
   "source": [
    "# parameter setting\n",
    "batch_size = 100\n",
    "epochs = 15\n",
    "tr_loss_history = []\n",
    "tr_acc_history = []\n",
    "val_loss_history = []\n",
    "val_acc_history = []\n",
    "\n",
    "# launch graph\n",
    "with tf.Session() as sess:\n",
    "    merged_summary = tf.summary.merge_all()\n",
    "    writer = tf.summary.FileWriter(logdir = './logs/CNN_MNIST/')\n",
    "    writer.add_graph(sess.graph)\n",
    "    # Initialize TensorFlow variables\n",
    "    sess.run(tf.global_variables_initializer())\n",
    "\n",
    "    for epoch in range(epochs):\n",
    "        total_batch = int(mnist.train.num_examples / batch_size)\n",
    "        avg_tr_loss = 0\n",
    "        avg_val_loss = 0\n",
    "\n",
    "        for step in range(total_batch):\n",
    "            \n",
    "            batch_xs, batch_ys = mnist.train.next_batch(batch_size)\n",
    "            summary, tr_loss, _ = sess.run([merged_summary, loss, train], feed_dict = {X : batch_xs, Y : batch_ys, keep_prob : 0.8})\n",
    "            val_loss = sess.run(loss, feed_dict = {X : mnist.validation.images, Y : mnist.validation.labels, keep_prob : 1})\n",
    "            avg_tr_loss += tr_loss / total_batch\n",
    "            avg_val_loss += val_loss / total_batch\n",
    "        \n",
    "        tr_acc = sess.run(accuracy, feed_dict = {X : batch_xs, Y : batch_ys, keep_prob : 1})\n",
    "        val_acc = sess.run(accuracy, feed_dict = {X : mnist.validation.images, Y : mnist.validation.labels, keep_prob : 1})\n",
    "        \n",
    "        tr_loss_history.append(avg_tr_loss)\n",
    "        tr_acc_history.append(tr_acc)\n",
    "        val_loss_history.append(avg_val_loss)\n",
    "        val_acc_history.append(val_acc)\n",
    "        writer.add_summary(summary, global_step = epoch)\n",
    "        print('epoch : {:4}, tr_loss : {:.3f}, tr_acc : {:.2%}, val_loss : {:.3f}, val_acc : {:.2%}'.format(epoch, avg_tr_loss,\n",
    "                                                                                                               tr_acc, avg_val_loss,\n",
    "                                                                                                               val_acc))\n",
    "    \n",
    "        print('test accuracy : {:.2%}'.format(sess.run(accuracy, feed_dict = {X : mnist.test.images, Y : mnist.test.labels, keep_prob : 1})))\n",
    "    # Get one and predict\n",
    "    r = random.randint(0,mnist.test.num_examples - 1)\n",
    "    print('Label : ', sess.run(tf.argmax(mnist.test.labels[r:r+1], axis = 1)))\n",
    "    print('Prediction : ', sess.run(tf.argmax(score, axis = 1), feed_dict = {X : mnist.test.images[r:r+1], keep_prob : 1}))\n",
    "   \n",
    "    plt.imshow(mnist.test.images[r:r + 1].reshape(28, 28), cmap='Greys', interpolation='nearest')"
   ]
  },
  {
   "cell_type": "markdown",
   "metadata": {},
   "source": [
    "### loss &  accuracy history"
   ]
  },
  {
   "cell_type": "code",
   "execution_count": 6,
   "metadata": {
    "collapsed": false
   },
   "outputs": [
    {
     "data": {
      "text/plain": [
       "<matplotlib.legend.Legend at 0x183c8b5dcc0>"
      ]
     },
     "execution_count": 6,
     "metadata": {},
     "output_type": "execute_result"
    },
    {
     "data": {
      "image/png": "[encoded data removed]",
      "text/plain": [
       "<matplotlib.figure.Figure at 0x183c4550128>"
      ]
     },
     "metadata": {},
     "output_type": "display_data"
    }
   ],
   "source": [
    "fig = plt.figure()\n",
    "loss_history = fig.add_subplot(1,2,1)\n",
    "loss_history.plot(tr_loss_history, label = 'tr_loss')\n",
    "loss_history.plot(val_loss_history, label = 'val_loss')\n",
    "loss_history.title.set_text('loss')\n",
    "loss_history.legend(loc = 'upper right')\n",
    "\n",
    "acc_history = fig.add_subplot(1,2,2)\n",
    "acc_history.plot(tr_acc_history, label = 'tr_acc')\n",
    "acc_history.plot(val_acc_history, label = 'val_acc')\n",
    "acc_history.title.set_text('accuracy')\n",
    "acc_history.legend(loc = 'upper right')"
   ]
  },
  {
   "cell_type": "markdown",
   "metadata": {},
   "source": [
    "### structure\n",
    "![Alt text](http://i.imgur.com/ckpCIl1.png)"
   ]
  }
 ],
 "metadata": {
  "kernelspec": {
   "display_name": "Python 3",
   "language": "python",
   "name": "python3"
  },
  "language_info": {
   "codemirror_mode": {
    "name": "ipython",
    "version": 3
   },
   "file_extension": ".py",
   "mimetype": "text/x-python",
   "name": "python",
   "nbconvert_exporter": "python",
   "pygments_lexer": "ipython3",
   "version": "3.5.2"
  }
 },
 "nbformat": 4,
 "nbformat_minor": 2
}
