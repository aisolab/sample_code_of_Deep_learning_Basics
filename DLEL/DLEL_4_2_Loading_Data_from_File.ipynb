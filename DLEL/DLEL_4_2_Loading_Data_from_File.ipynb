{
 "cells": [
  {
   "cell_type": "markdown",
   "metadata": {},
   "source": [
    "## 모두를 위한 머신러닝/딥러닝 강의\n",
    "김성훈 교수님의 모두를 위한 머신러닝/딥러닝 강의 중 lab 강의 코드입니다.\n",
    "## Lab4_2 Loading Data from File"
   ]
  },
  {
   "cell_type": "markdown",
   "metadata": {},
   "source": [
    "### With numpy"
   ]
  },
  {
   "cell_type": "code",
   "execution_count": 1,
   "metadata": {
    "collapsed": false
   },
   "outputs": [
    {
     "data": {
      "text/plain": [
       "['.ipynb_checkpoints',\n",
       " 'data-01-test-score.csv',\n",
       " 'data-02-test-score.csv',\n",
       " 'data-03-test-score.csv',\n",
       " 'data-04-test-score.csv',\n",
       " 'data-05-test-score.csv',\n",
       " 'DLEL.zip',\n",
       " 'DLEL_1_TensorFlow_Basics.ipynb',\n",
       " 'DLEL_2_Linear_regression.ipynb',\n",
       " 'DLEL_3_Minimizing_Cost.ipynb',\n",
       " 'DLEL_4_2_Loading_Data_from_File.ipynb',\n",
       " 'DLEL_4_Multi-variable_linear_regression.ipynb']"
      ]
     },
     "execution_count": 1,
     "metadata": {},
     "output_type": "execute_result"
    }
   ],
   "source": [
    "import sys, os\n",
    "import tensorflow as tf\n",
    "import numpy as np\n",
    "os.listdir()"
   ]
  },
  {
   "cell_type": "code",
   "execution_count": 2,
   "metadata": {
    "collapsed": false
   },
   "outputs": [
    {
     "name": "stdout",
     "output_type": "stream",
     "text": [
      "(25, 3) (25,)\n"
     ]
    }
   ],
   "source": [
    "tf.set_random_seed(777) # for reproducibility\n",
    "config = {'fname' : 'D:\\dev\\DLEL\\data-01-test-score.csv', 'dtype' : np.float32, 'delimiter' : ','} \n",
    "xy = np.loadtxt(**config)\n",
    "x_data = xy[:, 0:3]\n",
    "y_data = xy[:, -1]\n",
    "print(x_data.shape, y_data.shape)"
   ]
  },
  {
   "cell_type": "code",
   "execution_count": 3,
   "metadata": {
    "collapsed": false
   },
   "outputs": [
    {
     "name": "stdout",
     "output_type": "stream",
     "text": [
      "0 cost = 21178.71875 \n",
      "Prediction\n",
      "[[ 22.04806328]\n",
      " [ 21.61978722]\n",
      " [ 24.09669304]\n",
      " [ 22.29300499]\n",
      " [ 18.6339016 ]\n",
      " [  7.2669735 ]\n",
      " [ 12.33102989]\n",
      " [  3.15051103]\n",
      " [ 14.34794426]\n",
      " [  4.25342369]\n",
      " [ 14.48570824]\n",
      " [ 10.67806816]\n",
      " [ 28.80463982]\n",
      " [ 29.29880333]\n",
      " [ 11.23783684]\n",
      " [ 18.6465435 ]\n",
      " [ 31.18945122]\n",
      " [ 13.34466362]\n",
      " [ 28.84174156]\n",
      " [ 25.66280937]\n",
      " [ 15.08476067]\n",
      " [ 16.79836845]\n",
      " [ 15.92455101]\n",
      " [ 31.36112022]\n",
      " [ 24.98636436]]\n",
      "1000 cost = 1118.75341796875 \n",
      "Prediction\n",
      "[[ 152.37536621]\n",
      " [ 181.65196228]\n",
      " [ 179.85574341]\n",
      " [ 193.99241638]\n",
      " [ 139.83654785]\n",
      " [ 100.23703003]\n",
      " [ 142.99723816]\n",
      " [ 102.90788269]\n",
      " [ 167.2350769 ]\n",
      " [ 150.75358582]\n",
      " [ 139.2648468 ]\n",
      " [ 136.01049805]\n",
      " [ 187.65908813]\n",
      " [ 158.62748718]\n",
      " [ 143.24215698]\n",
      " [ 182.70162964]\n",
      " [ 152.90055847]\n",
      " [ 170.66418457]\n",
      " [ 179.43598938]\n",
      " [ 160.4236145 ]\n",
      " [ 168.05151367]\n",
      " [ 168.73977661]\n",
      " [ 160.88987732]\n",
      " [ 157.95100403]\n",
      " [ 189.32693481]]\n",
      "2000 cost = 1086.204345703125 \n",
      "Prediction\n",
      "[[ 150.84555054]\n",
      " [ 181.65614319]\n",
      " [ 178.79142761]\n",
      " [ 194.20433044]\n",
      " [ 139.18029785]\n",
      " [ 102.11181641]\n",
      " [ 144.69943237]\n",
      " [ 106.26679993]\n",
      " [ 169.35623169]\n",
      " [ 155.93281555]\n",
      " [ 140.04618835]\n",
      " [ 138.12884521]\n",
      " [ 185.1782074 ]\n",
      " [ 154.72949219]\n",
      " [ 145.3815155 ]\n",
      " [ 183.84637451]\n",
      " [ 148.09443665]\n",
      " [ 173.13415527]\n",
      " [ 176.56898499]\n",
      " [ 157.91441345]\n",
      " [ 169.81282043]\n",
      " [ 169.97386169]\n",
      " [ 162.02207947]\n",
      " [ 153.19670105]\n",
      " [ 188.38777161]]\n"
     ]
    }
   ],
   "source": [
    "# Make sure the shape and data are OK\n",
    "X = tf.placeholder(tf.float32, shape = [None, x_data.shape[1]])\n",
    "Y = tf.placeholder(tf.float32, shape = [None])\n",
    "\n",
    "W = tf.Variable(tf.random_normal([3, 1]), name = 'weight')\n",
    "b = tf.Variable(tf.random_normal([1]), name = 'bias')\n",
    "\n",
    "# Hypothesis\n",
    "hypothesis = tf.matmul(X, W) + b\n",
    "\n",
    "# Simplified cost/loss function\n",
    "cost = tf.reduce_mean(tf.square(hypothesis - Y))\n",
    "\n",
    "# Minimize\n",
    "opt = tf.train.GradientDescentOptimizer(learning_rate = 1e-5)\n",
    "train = opt.minimize(cost)\n",
    "\n",
    "# Launch the graph in a session\n",
    "sess = tf.Session()\n",
    "\n",
    "# Initializes global variables in the graph\n",
    "sess.run(tf.global_variables_initializer())\n",
    "\n",
    "for step in range(2001):\n",
    "    cost_val, hy_val, _ = sess.run([cost, hypothesis, train], feed_dict = {X : x_data, Y : y_data})\n",
    "    if step % 1000 == 0:\n",
    "        print(step, 'cost = {}'.format(cost_val), '\\nPrediction\\n{}'.format(hy_val))"
   ]
  },
  {
   "cell_type": "code",
   "execution_count": 4,
   "metadata": {
    "collapsed": false
   },
   "outputs": [
    {
     "name": "stdout",
     "output_type": "stream",
     "text": [
      "Your score will be  [[ 179.80020142]]\n"
     ]
    }
   ],
   "source": [
    "# Ask my score\n",
    "print('Your score will be ', sess.run(hypothesis, feed_dict = {X : [[100, 70, 101]]}))"
   ]
  },
  {
   "cell_type": "markdown",
   "metadata": {},
   "source": [
    "### Queue Runners "
   ]
  },
  {
   "cell_type": "markdown",
   "metadata": {
    "collapsed": false
   },
   "source": [
    "어차피 학습은 보통 mini-batch 단위로 이루어지므로 학습하고자하는 모든 데이터를 메모리 상에 올릴 필요가 없고 mini-batch 단위로 올려도 무방하다. Tensorflow에서는 이와 같은 기능을 수행하는 Queue-runner라는 것을 구현해놓았다. 기능은 아래의 그림과 같다.  \n",
    "참고 : https://tensorflowkorea.gitbooks.io/tensorflow-kr/content/g3doc/how_tos/threading_and_queues/\n",
    "  \n",
    "![alt text](http://i.imgur.com/dbjgw1E.png)  \n",
    "예제는 아래의 기능을 수행하는 코드를 짜본다.\n",
    "![alt text](http://i.imgur.com/SZXiKNW.png)"
   ]
  },
  {
   "cell_type": "code",
   "execution_count": 5,
   "metadata": {
    "collapsed": false
   },
   "outputs": [
    {
     "name": "stdout",
     "output_type": "stream",
     "text": [
      "['.ipynb_checkpoints', 'data-01-test-score.csv', 'data-02-test-score.csv', 'data-03-test-score.csv', 'data-04-test-score.csv', 'data-05-test-score.csv', 'DLEL.zip', 'DLEL_1_TensorFlow_Basics.ipynb', 'DLEL_2_Linear_regression.ipynb', 'DLEL_3_Minimizing_Cost.ipynb', 'DLEL_4_2_Loading_Data_from_File.ipynb', 'DLEL_4_Multi-variable_linear_regression.ipynb']\n"
     ]
    },
    {
     "data": {
      "text/plain": [
       "['data-01-test-score.csv',\n",
       " 'data-02-test-score.csv',\n",
       " 'data-03-test-score.csv',\n",
       " 'data-04-test-score.csv',\n",
       " 'data-05-test-score.csv']"
      ]
     },
     "execution_count": 5,
     "metadata": {},
     "output_type": "execute_result"
    }
   ],
   "source": [
    "tf.set_random_seed(777) # for reproducibility\n",
    "print(os.listdir())\n",
    "data_list = os.listdir()\n",
    "data_list = list(filter(lambda x : x.startswith('data'), data_list))\n",
    "data_list # 5개의 데이터로 queue를 이용한 learning을 해보자"
   ]
  },
  {
   "cell_type": "code",
   "execution_count": 6,
   "metadata": {
    "collapsed": false
   },
   "outputs": [
    {
     "name": "stdout",
     "output_type": "stream",
     "text": [
      "0 Cost:  105405.0 \n",
      "Prediction:\n",
      " [[-131.55688477]\n",
      " [-165.2099762 ]\n",
      " [-159.19018555]\n",
      " [-172.29362488]\n",
      " [-128.71299744]]\n",
      "1000 Cost:  13.9185 \n",
      "Prediction:\n",
      " [[ 156.16769409]\n",
      " [ 182.81266785]\n",
      " [ 182.57078552]\n",
      " [ 200.10159302]\n",
      " [ 137.10035706]]\n",
      "2000 Cost:  10.7483 \n",
      "Prediction:\n",
      " [[ 155.48178101]\n",
      " [ 183.48394775]\n",
      " [ 182.45397949]\n",
      " [ 200.06747437]\n",
      " [ 137.90686035]]\n",
      "Your score will be  [[ 177.21903992]]\n",
      "Other scores will be  [[ 186.71313477]\n",
      " [ 178.01908875]]\n"
     ]
    }
   ],
   "source": [
    "filename_queue = tf.train.string_input_producer(data_list, shuffle=True, name='filename_queue')\n",
    "\n",
    "reader = tf.TextLineReader()\n",
    "key, value = reader.read(filename_queue)\n",
    "\n",
    "# Default values, in case of empty columns. Also specifies the type of the\n",
    "# decoded result.\n",
    "record_defaults = [[0.], [0.], [0.], [0.]]\n",
    "xy = tf.decode_csv(value, record_defaults=record_defaults)\n",
    "\n",
    "# collect batches of csv in\n",
    "train_x_batch, train_y_batch = tf.train.batch([xy[0:-1], xy[-1:]], batch_size = 5)\n",
    "\n",
    "# placeholders for a tensor that will be always fed.\n",
    "X = tf.placeholder(tf.float32, shape=[None, 3])\n",
    "Y = tf.placeholder(tf.float32, shape=[None, 1])\n",
    "\n",
    "W = tf.Variable(tf.random_normal([3, 1]), name='weight')\n",
    "b = tf.Variable(tf.random_normal([1]), name='bias')\n",
    "\n",
    "# Hypothesis\n",
    "hypothesis = tf.matmul(X, W) + b\n",
    "\n",
    "# Simplified cost/loss function\n",
    "cost = tf.reduce_mean(tf.square(hypothesis - Y))\n",
    "\n",
    "# Minimize\n",
    "optimizer = tf.train.GradientDescentOptimizer(learning_rate=1e-5)\n",
    "train = optimizer.minimize(cost)\n",
    "\n",
    "# Launch the graph in a session.\n",
    "sess = tf.Session()\n",
    "# Initializes global variables in the graph.\n",
    "sess.run(tf.global_variables_initializer())\n",
    "\n",
    "# Start populating the filename queue.\n",
    "coord = tf.train.Coordinator()\n",
    "threads = tf.train.start_queue_runners(sess=sess, coord=coord)\n",
    "\n",
    "for step in range(2001):\n",
    "    x_batch, y_batch = sess.run([train_x_batch, train_y_batch])\n",
    "    cost_val, hy_val, _ = sess.run(\n",
    "        [cost, hypothesis, train], feed_dict={X: x_batch, Y: y_batch})\n",
    "    if step % 1000 == 0:\n",
    "        print(step, \"Cost: \", cost_val, \"\\nPrediction:\\n\", hy_val)\n",
    "\n",
    "coord.request_stop()\n",
    "coord.join(threads)\n",
    "\n",
    "# Ask my score\n",
    "print(\"Your score will be \",\n",
    "      sess.run(hypothesis, feed_dict={X: [[100, 70, 101]]}))\n",
    "\n",
    "print(\"Other scores will be \",\n",
    "      sess.run(hypothesis, feed_dict={X: [[60, 70, 110], [90, 100, 80]]}))"
   ]
  }
 ],
 "metadata": {
  "kernelspec": {
   "display_name": "Python 3",
   "language": "python",
   "name": "python3"
  },
  "language_info": {
   "codemirror_mode": {
    "name": "ipython",
    "version": 3
   },
   "file_extension": ".py",
   "mimetype": "text/x-python",
   "name": "python",
   "nbconvert_exporter": "python",
   "pygments_lexer": "ipython3",
   "version": "3.5.2"
  }
 },
 "nbformat": 4,
 "nbformat_minor": 2
}
