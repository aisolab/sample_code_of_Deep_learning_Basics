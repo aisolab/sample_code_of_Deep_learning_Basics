{
 "cells": [
  {
   "cell_type": "markdown",
   "metadata": {},
   "source": [
    "### 모두를 위한 머신러닝/딥러닝 강의\n",
    "김성훈 교수님의 모두를 위한 머신러닝/딥러닝 강의 중 lab 강의 코드입니다.\n",
    "## Lab11_4 CNN MNIST (OOP)"
   ]
  },
  {
   "cell_type": "markdown",
   "metadata": {},
   "source": [
    "### CNN modeling by OOP programing (Class) "
   ]
  },
  {
   "cell_type": "code",
   "execution_count": 1,
   "metadata": {
    "collapsed": false
   },
   "outputs": [],
   "source": [
    "import os, sys\n",
    "import numpy as np\n",
    "import tensorflow as tf\n",
    "import matplotlib.pylab as plt\n",
    "from tensorflow.examples.tutorials.mnist import input_data\n",
    "%matplotlib inline"
   ]
  },
  {
   "cell_type": "code",
   "execution_count": 2,
   "metadata": {
    "collapsed": false
   },
   "outputs": [
    {
     "data": {
      "text/plain": [
       "['.ipynb_checkpoints',\n",
       " 'Data structures and algorithms_warm_up.ipynb',\n",
       " 'Data structures and algorithms_week_1.ipynb',\n",
       " 'DLEL',\n",
       " 'DLEL.zip',\n",
       " 'DLEL_10_1_accuracy_loss.PNG',\n",
       " 'DLEL_10_1_activation_histogram.PNG',\n",
       " 'DLEL_10_1_example_graph.PNG',\n",
       " 'DLEL_10_1_Weight_initialization.ipynb',\n",
       " 'DLEL_10_2_Drop_out.ipynb',\n",
       " 'DLEL_11_2_CNN_MNIST.ipynb',\n",
       " 'DLEL_11_3_CNN_MNIST_(Deep).ipynb',\n",
       " 'DLEL_11_3_cnn_mnist_deep_graph.PNG',\n",
       " 'DLEL_11_4_CNN_MNIST_(OOP).ipynb',\n",
       " 'hmm_viterbi_mini_example.pdf',\n",
       " 'JurafskyMartinHmmDecode.xlsx',\n",
       " 'logs',\n",
       " 'MNIST_data',\n",
       " 'py-automate',\n",
       " 'sample.in',\n",
       " 'toy.in',\n",
       " 'Untitled.ipynb',\n",
       " 'untitled.txt',\n",
       " 'Untitled1.ipynb']"
      ]
     },
     "execution_count": 2,
     "metadata": {},
     "output_type": "execute_result"
    }
   ],
   "source": [
    "os.listdir()"
   ]
  },
  {
   "cell_type": "code",
   "execution_count": 3,
   "metadata": {
    "collapsed": false
   },
   "outputs": [
    {
     "name": "stdout",
     "output_type": "stream",
     "text": [
      "Extracting ./MNIST_data\\train-images-idx3-ubyte.gz\n",
      "Extracting ./MNIST_data\\train-labels-idx1-ubyte.gz\n",
      "Extracting ./MNIST_data\\t10k-images-idx3-ubyte.gz\n",
      "Extracting ./MNIST_data\\t10k-labels-idx1-ubyte.gz\n"
     ]
    }
   ],
   "source": [
    "mnist = input_data.read_data_sets(train_dir = './MNIST_data', one_hot = True)"
   ]
  },
  {
   "cell_type": "code",
   "execution_count": 4,
   "metadata": {
    "collapsed": false
   },
   "outputs": [],
   "source": [
    "class CNN_for_MNIST:\n",
    "    \n",
    "    def __init__(self, sess, name):\n",
    "        self.sess = sess\n",
    "        self.name = name\n",
    "        self.build_net()\n",
    "        \n",
    "    def build_net(self):\n",
    "        \n",
    "        with tf.variable_scope(self.name):\n",
    "            \n",
    "            with tf.variable_scope('CNN_weights'):\n",
    "                                \n",
    "                weights = {'wc1' : tf.get_variable(name = 'wc1', shape = [3, 3, 1, 32],\n",
    "                                                   initializer =  tf.contrib.layers.xavier_initializer()),\n",
    "                    'wc2' : tf.get_variable(name = 'wc2', shape = [3, 3, 32, 64],\n",
    "                                            initializer = tf.contrib.layers.xavier_initializer()),\n",
    "                    'wc3' : tf.get_variable(name = 'wc3', shape = [3, 3, 64, 128],\n",
    "                                            initializer = tf.contrib.layers.xavier_initializer()),\n",
    "                    'wd' :  tf.get_variable(name = 'wd', shape = [4 * 4 * 128, 10],\n",
    "                                            initializer = tf.contrib.layers.xavier_initializer())}\n",
    "            \n",
    "            with tf.variable_scope('CNN_bias'):\n",
    "                \n",
    "                biases = {'bc1' : tf.get_variable(name = 'bc1', shape = [32],\n",
    "                                                  initializer = tf.random_normal_initializer(mean = 0.0, stddev = 0.1)),\n",
    "                          'bc2' : tf.get_variable(name = 'bc2', shape = [64],\n",
    "                                                  initializer = tf.random_normal_initializer(mean = 0.0, stddev = 0.1)),\n",
    "                          'bc3' : tf.get_variable(name = 'bc3', shape = [128],\n",
    "                                                  initializer = tf.random_normal_initializer(mean = 0.0, stddev = 0.1)),\n",
    "                          'bd' : tf.get_variable(name = 'bd', shape = [10],\n",
    "                                                 initializer = tf.random_normal_initializer(mean = 0.0, stddev = 0.1))}\n",
    "                           \n",
    "            # input placeholder\n",
    "            self.X = tf.placeholder(dtype = tf.float32, shape = [None, 784])\n",
    "            Ximg = tf.reshape(tensor = self.X, shape = [-1, 28, 28, 1])\n",
    "            self.Y = tf.placeholder(dtype = tf.float32, shape = [None, 10])\n",
    "            self.learning_rate = tf.placeholder(dtype = tf.float32)\n",
    "            \n",
    "            with tf.variable_scope('conv1_layer'): # (28, 28, 1) -> (28, 28, 32)\n",
    "                conv1 = tf.nn.conv2d(input = Ximg, filter = weights['wc1'], strides = [1,1,1,1], padding = 'SAME')\n",
    "                relu1 = tf.nn.relu(conv1 + biases['bc1'])\n",
    "                print(relu1)\n",
    "                \n",
    "            with tf.variable_scope('pool1_layer'): # (28, 28, 32) -> (14, 14, 32)\n",
    "                pool1 = tf.nn.max_pool(value = relu1, ksize = [1, 2, 2, 1], strides = [1, 2, 2, 1], padding = 'SAME')\n",
    "                print(pool1)\n",
    "                \n",
    "            with tf.variable_scope('conv2_layer'): # (14, 14, 32) -> (14, 14, 64)\n",
    "                conv2 = tf.nn.conv2d(input = pool1, filter = weights['wc2'], strides = [1, 1, 1, 1], padding = 'SAME')\n",
    "                relu2 = tf.nn.relu(conv2 + biases['bc2']) \n",
    "                print(relu2)\n",
    "            \n",
    "            with tf.variable_scope('pool2_layer'): # (14, 14, 64) -> (7, 7, 64)\n",
    "                pool2 = tf.nn.max_pool(value = relu2, ksize = [1, 2, 2, 1], strides = [1, 2, 2, 1], padding = 'SAME')\n",
    "                print(pool2)\n",
    "            \n",
    "            with tf.variable_scope('conv3_layer'): # (7, 7, 64) -> (7, 7, 128)\n",
    "                conv3 = tf.nn.conv2d(input = pool2, filter = weights['wc3'], strides = [1, 1, 1, 1], padding = 'SAME')\n",
    "                relu3 = tf.nn.relu(conv3 + biases['bc3'])\n",
    "                print(relu3)\n",
    "                \n",
    "            with tf.variable_scope('pool3_layer'): # (7, 7, 128) -> (4, 4, 128)\n",
    "                pool3 = tf.nn.max_pool(value = relu3, ksize = [1, 2, 2, 1], strides = [1, 2, 2, 1], padding = 'SAME')\n",
    "                print(pool3)\n",
    "                \n",
    "            with tf.variable_scope('dense_layer'):\n",
    "                dense_vector = tf.reshape(tensor = pool3, shape = [-1, 4 * 4 * 128])\n",
    "                self.score = tf.matmul(dense_vector, weights['wd']) + biases['bd']\n",
    "                print(self.score)\n",
    "            \n",
    "            # define loss & optimizer\n",
    "            with tf.variable_scope('loss'):\n",
    "                self.loss = tf.reduce_mean(tf.nn.softmax_cross_entropy_with_logits(logits = self.score, labels = self.Y))\n",
    "            \n",
    "            with tf.variable_scope('train'):\n",
    "                self.opt = tf.train.AdamOptimizer(learning_rate = self.learning_rate).minimize(self.loss)\n",
    "            \n",
    "            with tf.variable_scope('accuracy'):\n",
    "                is_correct = tf.equal(tf.argmax(self.score ,axis = 1), tf.argmax(self.Y, axis = 1))\n",
    "                self.accuracy = tf.reduce_mean(tf.cast(is_correct, dtype = tf.float32))\n",
    "\n",
    "    def train(self, x_data, y_data, learning_rate):\n",
    "        return self.sess.run([self.loss, self.opt], feed_dict = {self.X : x_data, self.Y : y_data, self.learning_rate : learning_rate})\n",
    "\n",
    "    def cal_loss(self, x_data, y_data):\n",
    "        return self.sess.run(self.loss, feed_dict = {self.X : x_data, self.Y : y_data})\n",
    "    \n",
    "    def predict(self, x_test):\n",
    "        return self.sess.run(self.score, feed_dict = {self.X : x_test})\n",
    "    \n",
    "    def get_accuracy(self, x_test, y_test):\n",
    "        return self.sess.run(self.accuracy, feed_dict = {self.X : x_test, self.Y : y_test})"
   ]
  },
  {
   "cell_type": "markdown",
   "metadata": {},
   "source": [
    "### train"
   ]
  },
  {
   "cell_type": "code",
   "execution_count": 5,
   "metadata": {
    "collapsed": false
   },
   "outputs": [
    {
     "name": "stdout",
     "output_type": "stream",
     "text": [
      "Tensor(\"m1/conv1_layer/Relu:0\", shape=(?, 28, 28, 32), dtype=float32)\n",
      "Tensor(\"m1/pool1_layer/MaxPool:0\", shape=(?, 14, 14, 32), dtype=float32)\n",
      "Tensor(\"m1/conv2_layer/Relu:0\", shape=(?, 14, 14, 64), dtype=float32)\n",
      "Tensor(\"m1/pool2_layer/MaxPool:0\", shape=(?, 7, 7, 64), dtype=float32)\n",
      "Tensor(\"m1/conv3_layer/Relu:0\", shape=(?, 7, 7, 128), dtype=float32)\n",
      "Tensor(\"m1/pool3_layer/MaxPool:0\", shape=(?, 4, 4, 128), dtype=float32)\n",
      "Tensor(\"m1/dense_layer/add:0\", shape=(?, 10), dtype=float32)\n",
      "Learning Started!\n",
      "epoch :    0, tr_loss : 0.244, val_loss : 0.229\n",
      "epoch :    1, tr_loss : 0.054, val_loss : 0.054\n",
      "epoch :    2, tr_loss : 0.037, val_loss : 0.043\n",
      "epoch :    3, tr_loss : 0.029, val_loss : 0.039\n",
      "epoch :    4, tr_loss : 0.023, val_loss : 0.039\n",
      "epoch :    5, tr_loss : 0.019, val_loss : 0.035\n",
      "epoch :    6, tr_loss : 0.017, val_loss : 0.037\n",
      "epoch :    7, tr_loss : 0.013, val_loss : 0.037\n",
      "epoch :    8, tr_loss : 0.012, val_loss : 0.037\n",
      "epoch :    9, tr_loss : 0.009, val_loss : 0.035\n",
      "epoch :   10, tr_loss : 0.010, val_loss : 0.038\n",
      "epoch :   11, tr_loss : 0.009, val_loss : 0.039\n",
      "epoch :   12, tr_loss : 0.007, val_loss : 0.038\n",
      "epoch :   13, tr_loss : 0.005, val_loss : 0.037\n",
      "epoch :   14, tr_loss : 0.005, val_loss : 0.044\n",
      "Learning Finished!\n",
      "Accuracy: 0.9925\n"
     ]
    }
   ],
   "source": [
    "# hyper parameters\n",
    "learning_rate = 0.001\n",
    "training_epochs = 15\n",
    "batch_size = 100\n",
    "tr_loss_history = []\n",
    "val_loss_history = []\n",
    "\n",
    "# initialize\n",
    "sess = tf.Session()\n",
    "m1 = CNN_for_MNIST(sess, \"m1\")\n",
    "\n",
    "sess.run(tf.global_variables_initializer())\n",
    "\n",
    "print('Learning Started!')\n",
    "\n",
    "# train my model\n",
    "val_xs, val_ys = mnist.validation.images, mnist.validation.labels\n",
    "\n",
    "for epoch in range(training_epochs):\n",
    "    tr_avg_loss = 0\n",
    "    val_avg_loss = 0\n",
    "    total_batch = int(mnist.train.num_examples / batch_size)\n",
    "    \n",
    "    for i in range(total_batch):\n",
    "        batch_xs, batch_ys = mnist.train.next_batch(batch_size)\n",
    "        tr_loss, _ = m1.train(batch_xs, batch_ys, learning_rate)\n",
    "        val_loss = m1.cal_loss(val_xs, val_ys)\n",
    "        tr_avg_loss += tr_loss / total_batch\n",
    "        val_avg_loss += val_loss / total_batch\n",
    "    \n",
    "    tr_loss_history.append(tr_avg_loss)\n",
    "    val_loss_history.append(val_avg_loss)\n",
    "    \n",
    "    print('epoch : {:4}, tr_loss : {:.3f}, val_loss : {:.3f}'.format(epoch, tr_avg_loss, val_avg_loss))\n",
    "\n",
    "print('Learning Finished!')\n",
    "\n",
    "# Test model and check accuracy\n",
    "print('Accuracy:', m1.get_accuracy(mnist.test.images, mnist.test.labels))"
   ]
  },
  {
   "cell_type": "code",
   "execution_count": 8,
   "metadata": {
    "collapsed": false
   },
   "outputs": [
    {
     "data": {
      "text/plain": [
       "<matplotlib.legend.Legend at 0x1ae4eee7e10>"
      ]
     },
     "execution_count": 8,
     "metadata": {},
     "output_type": "execute_result"
    },
    {
     "data": {
      "image/png": "[encoded data removed]",
      "text/plain": [
       "<matplotlib.figure.Figure at 0x1ae4ed74a58>"
      ]
     },
     "metadata": {},
     "output_type": "display_data"
    }
   ],
   "source": [
    "plt.plot(tr_loss_history, label = 'tr_loss')\n",
    "plt.plot(val_loss_history, label = 'val_loss')\n",
    "plt.legend(loc = 'upper right')"
   ]
  }
 ],
 "metadata": {
  "kernelspec": {
   "display_name": "Python 3",
   "language": "python",
   "name": "python3"
  },
  "language_info": {
   "codemirror_mode": {
    "name": "ipython",
    "version": 3
   },
   "file_extension": ".py",
   "mimetype": "text/x-python",
   "name": "python",
   "nbconvert_exporter": "python",
   "pygments_lexer": "ipython3",
   "version": "3.5.2"
  }
 },
 "nbformat": 4,
 "nbformat_minor": 2
}
